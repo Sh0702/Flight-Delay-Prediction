{
 "cells": [
  {
   "cell_type": "code",
   "execution_count": 1,
   "metadata": {},
   "outputs": [],
   "source": [
    "import matplotlib.pyplot as plt\n",
    "import numpy as np\n",
    "from sklearn.metrics import classification_report, confusion_matrix\n",
    "import pandas as pd\n",
    "from sklearn import metrics\n",
    "from sklearn.metrics import accuracy_score"
   ]
  },
  {
   "cell_type": "code",
   "execution_count": 2,
   "metadata": {},
   "outputs": [],
   "source": [
    "f = open(\"/Users/shreyassrinivasan/Desktop/SF_Project/finalData.csv\")\n",
    "df = pd.read_csv(f)"
   ]
  },
  {
   "cell_type": "code",
   "execution_count": 3,
   "metadata": {},
   "outputs": [
    {
     "data": {
      "text/html": [
       "<div>\n",
       "<style scoped>\n",
       "    .dataframe tbody tr th:only-of-type {\n",
       "        vertical-align: middle;\n",
       "    }\n",
       "\n",
       "    .dataframe tbody tr th {\n",
       "        vertical-align: top;\n",
       "    }\n",
       "\n",
       "    .dataframe thead th {\n",
       "        text-align: right;\n",
       "    }\n",
       "</style>\n",
       "<table border=\"1\" class=\"dataframe\">\n",
       "  <thead>\n",
       "    <tr style=\"text-align: right;\">\n",
       "      <th></th>\n",
       "      <th>0</th>\n",
       "      <th>1</th>\n",
       "      <th>2</th>\n",
       "      <th>3</th>\n",
       "      <th>4</th>\n",
       "      <th>5</th>\n",
       "      <th>6</th>\n",
       "      <th>7</th>\n",
       "      <th>8</th>\n",
       "      <th>9</th>\n",
       "      <th>...</th>\n",
       "      <th>1851324</th>\n",
       "      <th>1851325</th>\n",
       "      <th>1851326</th>\n",
       "      <th>1851327</th>\n",
       "      <th>1851328</th>\n",
       "      <th>1851329</th>\n",
       "      <th>1851330</th>\n",
       "      <th>1851331</th>\n",
       "      <th>1851332</th>\n",
       "      <th>1851333</th>\n",
       "    </tr>\n",
       "  </thead>\n",
       "  <tbody>\n",
       "    <tr>\n",
       "      <th>Unnamed: 0</th>\n",
       "      <td>0.0</td>\n",
       "      <td>1.0</td>\n",
       "      <td>2.0</td>\n",
       "      <td>3.0</td>\n",
       "      <td>4.0</td>\n",
       "      <td>5.0</td>\n",
       "      <td>6.0</td>\n",
       "      <td>7.0</td>\n",
       "      <td>8.0</td>\n",
       "      <td>9.0</td>\n",
       "      <td>...</td>\n",
       "      <td>1851324.0</td>\n",
       "      <td>1851325.0</td>\n",
       "      <td>1851326.0</td>\n",
       "      <td>1851327.0</td>\n",
       "      <td>1851328.0</td>\n",
       "      <td>1851329.0</td>\n",
       "      <td>1851330.0</td>\n",
       "      <td>1851331.0</td>\n",
       "      <td>1851332.0</td>\n",
       "      <td>1851333.0</td>\n",
       "    </tr>\n",
       "    <tr>\n",
       "      <th>Unnamed: 0.1</th>\n",
       "      <td>0.0</td>\n",
       "      <td>1.0</td>\n",
       "      <td>2.0</td>\n",
       "      <td>3.0</td>\n",
       "      <td>4.0</td>\n",
       "      <td>5.0</td>\n",
       "      <td>6.0</td>\n",
       "      <td>7.0</td>\n",
       "      <td>8.0</td>\n",
       "      <td>9.0</td>\n",
       "      <td>...</td>\n",
       "      <td>1877184.0</td>\n",
       "      <td>1877185.0</td>\n",
       "      <td>1877186.0</td>\n",
       "      <td>1877187.0</td>\n",
       "      <td>1877188.0</td>\n",
       "      <td>1877189.0</td>\n",
       "      <td>1877190.0</td>\n",
       "      <td>1877191.0</td>\n",
       "      <td>1877192.0</td>\n",
       "      <td>1877193.0</td>\n",
       "    </tr>\n",
       "    <tr>\n",
       "      <th>Year</th>\n",
       "      <td>2016.0</td>\n",
       "      <td>2016.0</td>\n",
       "      <td>2016.0</td>\n",
       "      <td>2016.0</td>\n",
       "      <td>2016.0</td>\n",
       "      <td>2016.0</td>\n",
       "      <td>2016.0</td>\n",
       "      <td>2016.0</td>\n",
       "      <td>2016.0</td>\n",
       "      <td>2016.0</td>\n",
       "      <td>...</td>\n",
       "      <td>2017.0</td>\n",
       "      <td>2017.0</td>\n",
       "      <td>2017.0</td>\n",
       "      <td>2017.0</td>\n",
       "      <td>2017.0</td>\n",
       "      <td>2017.0</td>\n",
       "      <td>2017.0</td>\n",
       "      <td>2017.0</td>\n",
       "      <td>2017.0</td>\n",
       "      <td>2017.0</td>\n",
       "    </tr>\n",
       "    <tr>\n",
       "      <th>Quarter</th>\n",
       "      <td>4.0</td>\n",
       "      <td>4.0</td>\n",
       "      <td>4.0</td>\n",
       "      <td>4.0</td>\n",
       "      <td>4.0</td>\n",
       "      <td>4.0</td>\n",
       "      <td>4.0</td>\n",
       "      <td>4.0</td>\n",
       "      <td>4.0</td>\n",
       "      <td>4.0</td>\n",
       "      <td>...</td>\n",
       "      <td>1.0</td>\n",
       "      <td>1.0</td>\n",
       "      <td>1.0</td>\n",
       "      <td>1.0</td>\n",
       "      <td>1.0</td>\n",
       "      <td>1.0</td>\n",
       "      <td>1.0</td>\n",
       "      <td>1.0</td>\n",
       "      <td>1.0</td>\n",
       "      <td>1.0</td>\n",
       "    </tr>\n",
       "    <tr>\n",
       "      <th>Month</th>\n",
       "      <td>12.0</td>\n",
       "      <td>12.0</td>\n",
       "      <td>12.0</td>\n",
       "      <td>12.0</td>\n",
       "      <td>12.0</td>\n",
       "      <td>12.0</td>\n",
       "      <td>12.0</td>\n",
       "      <td>12.0</td>\n",
       "      <td>12.0</td>\n",
       "      <td>12.0</td>\n",
       "      <td>...</td>\n",
       "      <td>2.0</td>\n",
       "      <td>2.0</td>\n",
       "      <td>2.0</td>\n",
       "      <td>2.0</td>\n",
       "      <td>2.0</td>\n",
       "      <td>2.0</td>\n",
       "      <td>2.0</td>\n",
       "      <td>2.0</td>\n",
       "      <td>2.0</td>\n",
       "      <td>2.0</td>\n",
       "    </tr>\n",
       "    <tr>\n",
       "      <th>DayofMonth</th>\n",
       "      <td>1.0</td>\n",
       "      <td>1.0</td>\n",
       "      <td>1.0</td>\n",
       "      <td>1.0</td>\n",
       "      <td>1.0</td>\n",
       "      <td>1.0</td>\n",
       "      <td>1.0</td>\n",
       "      <td>1.0</td>\n",
       "      <td>1.0</td>\n",
       "      <td>1.0</td>\n",
       "      <td>...</td>\n",
       "      <td>12.0</td>\n",
       "      <td>11.0</td>\n",
       "      <td>10.0</td>\n",
       "      <td>4.0</td>\n",
       "      <td>11.0</td>\n",
       "      <td>25.0</td>\n",
       "      <td>19.0</td>\n",
       "      <td>18.0</td>\n",
       "      <td>25.0</td>\n",
       "      <td>26.0</td>\n",
       "    </tr>\n",
       "    <tr>\n",
       "      <th>OriginAirportID</th>\n",
       "      <td>11298.0</td>\n",
       "      <td>11298.0</td>\n",
       "      <td>13930.0</td>\n",
       "      <td>13303.0</td>\n",
       "      <td>14771.0</td>\n",
       "      <td>11292.0</td>\n",
       "      <td>14107.0</td>\n",
       "      <td>11057.0</td>\n",
       "      <td>11292.0</td>\n",
       "      <td>10397.0</td>\n",
       "      <td>...</td>\n",
       "      <td>14771.0</td>\n",
       "      <td>14771.0</td>\n",
       "      <td>14771.0</td>\n",
       "      <td>11298.0</td>\n",
       "      <td>11298.0</td>\n",
       "      <td>11298.0</td>\n",
       "      <td>12889.0</td>\n",
       "      <td>12889.0</td>\n",
       "      <td>12889.0</td>\n",
       "      <td>12889.0</td>\n",
       "    </tr>\n",
       "    <tr>\n",
       "      <th>DestAirportID</th>\n",
       "      <td>12892.0</td>\n",
       "      <td>12892.0</td>\n",
       "      <td>12892.0</td>\n",
       "      <td>12892.0</td>\n",
       "      <td>12892.0</td>\n",
       "      <td>12892.0</td>\n",
       "      <td>12892.0</td>\n",
       "      <td>12892.0</td>\n",
       "      <td>12892.0</td>\n",
       "      <td>12892.0</td>\n",
       "      <td>...</td>\n",
       "      <td>14747.0</td>\n",
       "      <td>14747.0</td>\n",
       "      <td>14747.0</td>\n",
       "      <td>14107.0</td>\n",
       "      <td>14107.0</td>\n",
       "      <td>14107.0</td>\n",
       "      <td>12892.0</td>\n",
       "      <td>12892.0</td>\n",
       "      <td>12892.0</td>\n",
       "      <td>12892.0</td>\n",
       "    </tr>\n",
       "    <tr>\n",
       "      <th>DepTime</th>\n",
       "      <td>1630.0</td>\n",
       "      <td>1650.0</td>\n",
       "      <td>1502.0</td>\n",
       "      <td>1424.0</td>\n",
       "      <td>1543.0</td>\n",
       "      <td>1624.0</td>\n",
       "      <td>1733.0</td>\n",
       "      <td>1451.0</td>\n",
       "      <td>1609.0</td>\n",
       "      <td>1520.0</td>\n",
       "      <td>...</td>\n",
       "      <td>556.0</td>\n",
       "      <td>543.0</td>\n",
       "      <td>548.0</td>\n",
       "      <td>2317.0</td>\n",
       "      <td>2319.0</td>\n",
       "      <td>2325.0</td>\n",
       "      <td>548.0</td>\n",
       "      <td>548.0</td>\n",
       "      <td>546.0</td>\n",
       "      <td>547.0</td>\n",
       "    </tr>\n",
       "    <tr>\n",
       "      <th>DepDelayMinutes</th>\n",
       "      <td>0.0</td>\n",
       "      <td>50.0</td>\n",
       "      <td>0.0</td>\n",
       "      <td>9.0</td>\n",
       "      <td>0.0</td>\n",
       "      <td>0.0</td>\n",
       "      <td>8.0</td>\n",
       "      <td>1.0</td>\n",
       "      <td>14.0</td>\n",
       "      <td>19.0</td>\n",
       "      <td>...</td>\n",
       "      <td>6.0</td>\n",
       "      <td>0.0</td>\n",
       "      <td>0.0</td>\n",
       "      <td>0.0</td>\n",
       "      <td>0.0</td>\n",
       "      <td>0.0</td>\n",
       "      <td>0.0</td>\n",
       "      <td>0.0</td>\n",
       "      <td>0.0</td>\n",
       "      <td>0.0</td>\n",
       "    </tr>\n",
       "    <tr>\n",
       "      <th>DepDel15</th>\n",
       "      <td>0.0</td>\n",
       "      <td>1.0</td>\n",
       "      <td>0.0</td>\n",
       "      <td>0.0</td>\n",
       "      <td>0.0</td>\n",
       "      <td>0.0</td>\n",
       "      <td>0.0</td>\n",
       "      <td>0.0</td>\n",
       "      <td>0.0</td>\n",
       "      <td>1.0</td>\n",
       "      <td>...</td>\n",
       "      <td>0.0</td>\n",
       "      <td>0.0</td>\n",
       "      <td>0.0</td>\n",
       "      <td>0.0</td>\n",
       "      <td>0.0</td>\n",
       "      <td>0.0</td>\n",
       "      <td>0.0</td>\n",
       "      <td>0.0</td>\n",
       "      <td>0.0</td>\n",
       "      <td>0.0</td>\n",
       "    </tr>\n",
       "    <tr>\n",
       "      <th>CRSArrTime</th>\n",
       "      <td>1758.0</td>\n",
       "      <td>1741.0</td>\n",
       "      <td>1747.0</td>\n",
       "      <td>1719.0</td>\n",
       "      <td>1725.0</td>\n",
       "      <td>1755.0</td>\n",
       "      <td>1745.0</td>\n",
       "      <td>1726.0</td>\n",
       "      <td>1730.0</td>\n",
       "      <td>1710.0</td>\n",
       "      <td>...</td>\n",
       "      <td>755.0</td>\n",
       "      <td>755.0</td>\n",
       "      <td>755.0</td>\n",
       "      <td>55.0</td>\n",
       "      <td>58.0</td>\n",
       "      <td>58.0</td>\n",
       "      <td>655.0</td>\n",
       "      <td>655.0</td>\n",
       "      <td>655.0</td>\n",
       "      <td>655.0</td>\n",
       "    </tr>\n",
       "    <tr>\n",
       "      <th>ArrTime</th>\n",
       "      <td>1748.0</td>\n",
       "      <td>1832.0</td>\n",
       "      <td>1738.0</td>\n",
       "      <td>1716.0</td>\n",
       "      <td>1710.0</td>\n",
       "      <td>1748.0</td>\n",
       "      <td>1743.0</td>\n",
       "      <td>1718.0</td>\n",
       "      <td>1729.0</td>\n",
       "      <td>1715.0</td>\n",
       "      <td>...</td>\n",
       "      <td>810.0</td>\n",
       "      <td>753.0</td>\n",
       "      <td>751.0</td>\n",
       "      <td>42.0</td>\n",
       "      <td>53.0</td>\n",
       "      <td>104.0</td>\n",
       "      <td>647.0</td>\n",
       "      <td>655.0</td>\n",
       "      <td>648.0</td>\n",
       "      <td>649.0</td>\n",
       "    </tr>\n",
       "    <tr>\n",
       "      <th>ArrDelayMinutes</th>\n",
       "      <td>0.0</td>\n",
       "      <td>51.0</td>\n",
       "      <td>0.0</td>\n",
       "      <td>0.0</td>\n",
       "      <td>0.0</td>\n",
       "      <td>0.0</td>\n",
       "      <td>0.0</td>\n",
       "      <td>0.0</td>\n",
       "      <td>0.0</td>\n",
       "      <td>5.0</td>\n",
       "      <td>...</td>\n",
       "      <td>15.0</td>\n",
       "      <td>0.0</td>\n",
       "      <td>0.0</td>\n",
       "      <td>0.0</td>\n",
       "      <td>0.0</td>\n",
       "      <td>6.0</td>\n",
       "      <td>0.0</td>\n",
       "      <td>0.0</td>\n",
       "      <td>0.0</td>\n",
       "      <td>0.0</td>\n",
       "    </tr>\n",
       "    <tr>\n",
       "      <th>ArrDel15</th>\n",
       "      <td>0.0</td>\n",
       "      <td>1.0</td>\n",
       "      <td>0.0</td>\n",
       "      <td>0.0</td>\n",
       "      <td>0.0</td>\n",
       "      <td>0.0</td>\n",
       "      <td>0.0</td>\n",
       "      <td>0.0</td>\n",
       "      <td>0.0</td>\n",
       "      <td>0.0</td>\n",
       "      <td>...</td>\n",
       "      <td>1.0</td>\n",
       "      <td>0.0</td>\n",
       "      <td>0.0</td>\n",
       "      <td>0.0</td>\n",
       "      <td>0.0</td>\n",
       "      <td>0.0</td>\n",
       "      <td>0.0</td>\n",
       "      <td>0.0</td>\n",
       "      <td>0.0</td>\n",
       "      <td>0.0</td>\n",
       "    </tr>\n",
       "    <tr>\n",
       "      <th>windspeedKmph_x</th>\n",
       "      <td>19.0</td>\n",
       "      <td>19.0</td>\n",
       "      <td>24.0</td>\n",
       "      <td>15.0</td>\n",
       "      <td>10.0</td>\n",
       "      <td>3.0</td>\n",
       "      <td>5.0</td>\n",
       "      <td>14.0</td>\n",
       "      <td>1.0</td>\n",
       "      <td>15.0</td>\n",
       "      <td>...</td>\n",
       "      <td>3.0</td>\n",
       "      <td>13.0</td>\n",
       "      <td>8.0</td>\n",
       "      <td>15.0</td>\n",
       "      <td>20.0</td>\n",
       "      <td>6.0</td>\n",
       "      <td>3.0</td>\n",
       "      <td>18.0</td>\n",
       "      <td>3.0</td>\n",
       "      <td>5.0</td>\n",
       "    </tr>\n",
       "    <tr>\n",
       "      <th>winddirDegree_x</th>\n",
       "      <td>169.0</td>\n",
       "      <td>169.0</td>\n",
       "      <td>257.0</td>\n",
       "      <td>140.0</td>\n",
       "      <td>117.0</td>\n",
       "      <td>111.0</td>\n",
       "      <td>278.0</td>\n",
       "      <td>275.0</td>\n",
       "      <td>132.0</td>\n",
       "      <td>292.0</td>\n",
       "      <td>...</td>\n",
       "      <td>83.0</td>\n",
       "      <td>320.0</td>\n",
       "      <td>246.0</td>\n",
       "      <td>171.0</td>\n",
       "      <td>188.0</td>\n",
       "      <td>122.0</td>\n",
       "      <td>201.0</td>\n",
       "      <td>138.0</td>\n",
       "      <td>97.0</td>\n",
       "      <td>335.0</td>\n",
       "    </tr>\n",
       "    <tr>\n",
       "      <th>weatherCode_x</th>\n",
       "      <td>113.0</td>\n",
       "      <td>113.0</td>\n",
       "      <td>119.0</td>\n",
       "      <td>116.0</td>\n",
       "      <td>113.0</td>\n",
       "      <td>113.0</td>\n",
       "      <td>116.0</td>\n",
       "      <td>113.0</td>\n",
       "      <td>113.0</td>\n",
       "      <td>113.0</td>\n",
       "      <td>...</td>\n",
       "      <td>248.0</td>\n",
       "      <td>176.0</td>\n",
       "      <td>248.0</td>\n",
       "      <td>122.0</td>\n",
       "      <td>113.0</td>\n",
       "      <td>122.0</td>\n",
       "      <td>122.0</td>\n",
       "      <td>296.0</td>\n",
       "      <td>113.0</td>\n",
       "      <td>113.0</td>\n",
       "    </tr>\n",
       "    <tr>\n",
       "      <th>precipMM_x</th>\n",
       "      <td>0.0</td>\n",
       "      <td>0.0</td>\n",
       "      <td>0.0</td>\n",
       "      <td>0.8</td>\n",
       "      <td>0.0</td>\n",
       "      <td>0.0</td>\n",
       "      <td>0.0</td>\n",
       "      <td>0.0</td>\n",
       "      <td>0.0</td>\n",
       "      <td>0.0</td>\n",
       "      <td>...</td>\n",
       "      <td>0.0</td>\n",
       "      <td>0.0</td>\n",
       "      <td>0.8</td>\n",
       "      <td>0.0</td>\n",
       "      <td>0.0</td>\n",
       "      <td>0.0</td>\n",
       "      <td>0.1</td>\n",
       "      <td>0.7</td>\n",
       "      <td>0.0</td>\n",
       "      <td>0.0</td>\n",
       "    </tr>\n",
       "    <tr>\n",
       "      <th>visibility_x</th>\n",
       "      <td>10.0</td>\n",
       "      <td>10.0</td>\n",
       "      <td>10.0</td>\n",
       "      <td>10.0</td>\n",
       "      <td>10.0</td>\n",
       "      <td>10.0</td>\n",
       "      <td>10.0</td>\n",
       "      <td>10.0</td>\n",
       "      <td>10.0</td>\n",
       "      <td>10.0</td>\n",
       "      <td>...</td>\n",
       "      <td>0.0</td>\n",
       "      <td>10.0</td>\n",
       "      <td>7.0</td>\n",
       "      <td>10.0</td>\n",
       "      <td>10.0</td>\n",
       "      <td>10.0</td>\n",
       "      <td>10.0</td>\n",
       "      <td>5.0</td>\n",
       "      <td>10.0</td>\n",
       "      <td>10.0</td>\n",
       "    </tr>\n",
       "    <tr>\n",
       "      <th>pressure_x</th>\n",
       "      <td>1018.0</td>\n",
       "      <td>1018.0</td>\n",
       "      <td>1012.0</td>\n",
       "      <td>1015.0</td>\n",
       "      <td>1020.0</td>\n",
       "      <td>1014.0</td>\n",
       "      <td>1013.0</td>\n",
       "      <td>1014.0</td>\n",
       "      <td>1014.0</td>\n",
       "      <td>1018.0</td>\n",
       "      <td>...</td>\n",
       "      <td>1023.0</td>\n",
       "      <td>1022.0</td>\n",
       "      <td>1015.0</td>\n",
       "      <td>1019.0</td>\n",
       "      <td>1012.0</td>\n",
       "      <td>1019.0</td>\n",
       "      <td>1006.0</td>\n",
       "      <td>1000.0</td>\n",
       "      <td>1022.0</td>\n",
       "      <td>1015.0</td>\n",
       "    </tr>\n",
       "    <tr>\n",
       "      <th>cloudcover_x</th>\n",
       "      <td>0.0</td>\n",
       "      <td>0.0</td>\n",
       "      <td>96.0</td>\n",
       "      <td>70.0</td>\n",
       "      <td>0.0</td>\n",
       "      <td>1.0</td>\n",
       "      <td>18.0</td>\n",
       "      <td>0.0</td>\n",
       "      <td>1.0</td>\n",
       "      <td>0.0</td>\n",
       "      <td>...</td>\n",
       "      <td>100.0</td>\n",
       "      <td>93.0</td>\n",
       "      <td>100.0</td>\n",
       "      <td>100.0</td>\n",
       "      <td>0.0</td>\n",
       "      <td>24.0</td>\n",
       "      <td>87.0</td>\n",
       "      <td>100.0</td>\n",
       "      <td>0.0</td>\n",
       "      <td>43.0</td>\n",
       "    </tr>\n",
       "    <tr>\n",
       "      <th>DewPointF_x</th>\n",
       "      <td>27.0</td>\n",
       "      <td>27.0</td>\n",
       "      <td>34.0</td>\n",
       "      <td>73.0</td>\n",
       "      <td>45.0</td>\n",
       "      <td>9.0</td>\n",
       "      <td>24.0</td>\n",
       "      <td>36.0</td>\n",
       "      <td>10.0</td>\n",
       "      <td>39.0</td>\n",
       "      <td>...</td>\n",
       "      <td>45.0</td>\n",
       "      <td>47.0</td>\n",
       "      <td>51.0</td>\n",
       "      <td>43.0</td>\n",
       "      <td>64.0</td>\n",
       "      <td>28.0</td>\n",
       "      <td>47.0</td>\n",
       "      <td>40.0</td>\n",
       "      <td>23.0</td>\n",
       "      <td>24.0</td>\n",
       "    </tr>\n",
       "    <tr>\n",
       "      <th>WindGustKmph_x</th>\n",
       "      <td>23.0</td>\n",
       "      <td>23.0</td>\n",
       "      <td>31.0</td>\n",
       "      <td>21.0</td>\n",
       "      <td>12.0</td>\n",
       "      <td>6.0</td>\n",
       "      <td>5.0</td>\n",
       "      <td>17.0</td>\n",
       "      <td>3.0</td>\n",
       "      <td>18.0</td>\n",
       "      <td>...</td>\n",
       "      <td>6.0</td>\n",
       "      <td>16.0</td>\n",
       "      <td>17.0</td>\n",
       "      <td>22.0</td>\n",
       "      <td>38.0</td>\n",
       "      <td>8.0</td>\n",
       "      <td>4.0</td>\n",
       "      <td>32.0</td>\n",
       "      <td>4.0</td>\n",
       "      <td>9.0</td>\n",
       "    </tr>\n",
       "    <tr>\n",
       "      <th>tempF_x</th>\n",
       "      <td>63.0</td>\n",
       "      <td>63.0</td>\n",
       "      <td>42.0</td>\n",
       "      <td>83.0</td>\n",
       "      <td>62.0</td>\n",
       "      <td>38.0</td>\n",
       "      <td>63.0</td>\n",
       "      <td>57.0</td>\n",
       "      <td>40.0</td>\n",
       "      <td>57.0</td>\n",
       "      <td>...</td>\n",
       "      <td>46.0</td>\n",
       "      <td>50.0</td>\n",
       "      <td>52.0</td>\n",
       "      <td>44.0</td>\n",
       "      <td>68.0</td>\n",
       "      <td>53.0</td>\n",
       "      <td>50.0</td>\n",
       "      <td>47.0</td>\n",
       "      <td>39.0</td>\n",
       "      <td>37.0</td>\n",
       "    </tr>\n",
       "    <tr>\n",
       "      <th>WindChillF_x</th>\n",
       "      <td>61.0</td>\n",
       "      <td>61.0</td>\n",
       "      <td>33.0</td>\n",
       "      <td>81.0</td>\n",
       "      <td>60.0</td>\n",
       "      <td>35.0</td>\n",
       "      <td>63.0</td>\n",
       "      <td>53.0</td>\n",
       "      <td>39.0</td>\n",
       "      <td>53.0</td>\n",
       "      <td>...</td>\n",
       "      <td>46.0</td>\n",
       "      <td>46.0</td>\n",
       "      <td>50.0</td>\n",
       "      <td>42.0</td>\n",
       "      <td>68.0</td>\n",
       "      <td>53.0</td>\n",
       "      <td>50.0</td>\n",
       "      <td>41.0</td>\n",
       "      <td>38.0</td>\n",
       "      <td>35.0</td>\n",
       "    </tr>\n",
       "    <tr>\n",
       "      <th>humidity_x</th>\n",
       "      <td>27.0</td>\n",
       "      <td>27.0</td>\n",
       "      <td>77.0</td>\n",
       "      <td>78.0</td>\n",
       "      <td>59.0</td>\n",
       "      <td>32.0</td>\n",
       "      <td>22.0</td>\n",
       "      <td>48.0</td>\n",
       "      <td>29.0</td>\n",
       "      <td>54.0</td>\n",
       "      <td>...</td>\n",
       "      <td>98.0</td>\n",
       "      <td>92.0</td>\n",
       "      <td>98.0</td>\n",
       "      <td>79.0</td>\n",
       "      <td>72.0</td>\n",
       "      <td>39.0</td>\n",
       "      <td>91.0</td>\n",
       "      <td>80.0</td>\n",
       "      <td>52.0</td>\n",
       "      <td>59.0</td>\n",
       "    </tr>\n",
       "    <tr>\n",
       "      <th>windspeedKmph_y</th>\n",
       "      <td>8.0</td>\n",
       "      <td>8.0</td>\n",
       "      <td>8.0</td>\n",
       "      <td>8.0</td>\n",
       "      <td>8.0</td>\n",
       "      <td>8.0</td>\n",
       "      <td>8.0</td>\n",
       "      <td>8.0</td>\n",
       "      <td>8.0</td>\n",
       "      <td>8.0</td>\n",
       "      <td>...</td>\n",
       "      <td>4.0</td>\n",
       "      <td>10.0</td>\n",
       "      <td>25.0</td>\n",
       "      <td>9.0</td>\n",
       "      <td>4.0</td>\n",
       "      <td>6.0</td>\n",
       "      <td>4.0</td>\n",
       "      <td>18.0</td>\n",
       "      <td>7.0</td>\n",
       "      <td>4.0</td>\n",
       "    </tr>\n",
       "    <tr>\n",
       "      <th>winddirDegree_y</th>\n",
       "      <td>261.0</td>\n",
       "      <td>261.0</td>\n",
       "      <td>261.0</td>\n",
       "      <td>261.0</td>\n",
       "      <td>261.0</td>\n",
       "      <td>261.0</td>\n",
       "      <td>261.0</td>\n",
       "      <td>261.0</td>\n",
       "      <td>261.0</td>\n",
       "      <td>261.0</td>\n",
       "      <td>...</td>\n",
       "      <td>97.0</td>\n",
       "      <td>189.0</td>\n",
       "      <td>189.0</td>\n",
       "      <td>44.0</td>\n",
       "      <td>340.0</td>\n",
       "      <td>46.0</td>\n",
       "      <td>78.0</td>\n",
       "      <td>109.0</td>\n",
       "      <td>61.0</td>\n",
       "      <td>206.0</td>\n",
       "    </tr>\n",
       "    <tr>\n",
       "      <th>weatherCode_y</th>\n",
       "      <td>113.0</td>\n",
       "      <td>113.0</td>\n",
       "      <td>113.0</td>\n",
       "      <td>113.0</td>\n",
       "      <td>113.0</td>\n",
       "      <td>113.0</td>\n",
       "      <td>113.0</td>\n",
       "      <td>113.0</td>\n",
       "      <td>113.0</td>\n",
       "      <td>113.0</td>\n",
       "      <td>...</td>\n",
       "      <td>122.0</td>\n",
       "      <td>122.0</td>\n",
       "      <td>122.0</td>\n",
       "      <td>113.0</td>\n",
       "      <td>122.0</td>\n",
       "      <td>122.0</td>\n",
       "      <td>143.0</td>\n",
       "      <td>353.0</td>\n",
       "      <td>116.0</td>\n",
       "      <td>263.0</td>\n",
       "    </tr>\n",
       "    <tr>\n",
       "      <th>precipMM_y</th>\n",
       "      <td>0.0</td>\n",
       "      <td>0.0</td>\n",
       "      <td>0.0</td>\n",
       "      <td>0.0</td>\n",
       "      <td>0.0</td>\n",
       "      <td>0.0</td>\n",
       "      <td>0.0</td>\n",
       "      <td>0.0</td>\n",
       "      <td>0.0</td>\n",
       "      <td>0.0</td>\n",
       "      <td>...</td>\n",
       "      <td>0.0</td>\n",
       "      <td>0.0</td>\n",
       "      <td>0.1</td>\n",
       "      <td>0.0</td>\n",
       "      <td>0.0</td>\n",
       "      <td>0.0</td>\n",
       "      <td>0.0</td>\n",
       "      <td>2.1</td>\n",
       "      <td>0.0</td>\n",
       "      <td>0.5</td>\n",
       "    </tr>\n",
       "    <tr>\n",
       "      <th>visibility_y</th>\n",
       "      <td>10.0</td>\n",
       "      <td>10.0</td>\n",
       "      <td>10.0</td>\n",
       "      <td>10.0</td>\n",
       "      <td>10.0</td>\n",
       "      <td>10.0</td>\n",
       "      <td>10.0</td>\n",
       "      <td>10.0</td>\n",
       "      <td>10.0</td>\n",
       "      <td>10.0</td>\n",
       "      <td>...</td>\n",
       "      <td>10.0</td>\n",
       "      <td>10.0</td>\n",
       "      <td>9.0</td>\n",
       "      <td>10.0</td>\n",
       "      <td>10.0</td>\n",
       "      <td>10.0</td>\n",
       "      <td>2.0</td>\n",
       "      <td>8.0</td>\n",
       "      <td>10.0</td>\n",
       "      <td>3.0</td>\n",
       "    </tr>\n",
       "    <tr>\n",
       "      <th>pressure_y</th>\n",
       "      <td>1014.0</td>\n",
       "      <td>1014.0</td>\n",
       "      <td>1014.0</td>\n",
       "      <td>1014.0</td>\n",
       "      <td>1014.0</td>\n",
       "      <td>1014.0</td>\n",
       "      <td>1014.0</td>\n",
       "      <td>1014.0</td>\n",
       "      <td>1014.0</td>\n",
       "      <td>1014.0</td>\n",
       "      <td>...</td>\n",
       "      <td>1031.0</td>\n",
       "      <td>1027.0</td>\n",
       "      <td>1003.0</td>\n",
       "      <td>1015.0</td>\n",
       "      <td>1015.0</td>\n",
       "      <td>1014.0</td>\n",
       "      <td>1010.0</td>\n",
       "      <td>1000.0</td>\n",
       "      <td>1020.0</td>\n",
       "      <td>1016.0</td>\n",
       "    </tr>\n",
       "    <tr>\n",
       "      <th>cloudcover_y</th>\n",
       "      <td>0.0</td>\n",
       "      <td>0.0</td>\n",
       "      <td>0.0</td>\n",
       "      <td>0.0</td>\n",
       "      <td>0.0</td>\n",
       "      <td>0.0</td>\n",
       "      <td>0.0</td>\n",
       "      <td>0.0</td>\n",
       "      <td>0.0</td>\n",
       "      <td>0.0</td>\n",
       "      <td>...</td>\n",
       "      <td>100.0</td>\n",
       "      <td>65.0</td>\n",
       "      <td>98.0</td>\n",
       "      <td>0.0</td>\n",
       "      <td>100.0</td>\n",
       "      <td>100.0</td>\n",
       "      <td>100.0</td>\n",
       "      <td>100.0</td>\n",
       "      <td>36.0</td>\n",
       "      <td>90.0</td>\n",
       "    </tr>\n",
       "    <tr>\n",
       "      <th>DewPointF_y</th>\n",
       "      <td>59.0</td>\n",
       "      <td>59.0</td>\n",
       "      <td>59.0</td>\n",
       "      <td>59.0</td>\n",
       "      <td>59.0</td>\n",
       "      <td>59.0</td>\n",
       "      <td>59.0</td>\n",
       "      <td>59.0</td>\n",
       "      <td>59.0</td>\n",
       "      <td>59.0</td>\n",
       "      <td>...</td>\n",
       "      <td>34.0</td>\n",
       "      <td>36.0</td>\n",
       "      <td>35.0</td>\n",
       "      <td>42.0</td>\n",
       "      <td>51.0</td>\n",
       "      <td>32.0</td>\n",
       "      <td>51.0</td>\n",
       "      <td>50.0</td>\n",
       "      <td>45.0</td>\n",
       "      <td>47.0</td>\n",
       "    </tr>\n",
       "    <tr>\n",
       "      <th>WindGustKmph_y</th>\n",
       "      <td>10.0</td>\n",
       "      <td>10.0</td>\n",
       "      <td>10.0</td>\n",
       "      <td>10.0</td>\n",
       "      <td>10.0</td>\n",
       "      <td>10.0</td>\n",
       "      <td>10.0</td>\n",
       "      <td>10.0</td>\n",
       "      <td>10.0</td>\n",
       "      <td>10.0</td>\n",
       "      <td>...</td>\n",
       "      <td>9.0</td>\n",
       "      <td>14.0</td>\n",
       "      <td>49.0</td>\n",
       "      <td>15.0</td>\n",
       "      <td>6.0</td>\n",
       "      <td>10.0</td>\n",
       "      <td>5.0</td>\n",
       "      <td>32.0</td>\n",
       "      <td>13.0</td>\n",
       "      <td>5.0</td>\n",
       "    </tr>\n",
       "    <tr>\n",
       "      <th>tempF_y</th>\n",
       "      <td>69.0</td>\n",
       "      <td>69.0</td>\n",
       "      <td>69.0</td>\n",
       "      <td>69.0</td>\n",
       "      <td>69.0</td>\n",
       "      <td>69.0</td>\n",
       "      <td>69.0</td>\n",
       "      <td>69.0</td>\n",
       "      <td>69.0</td>\n",
       "      <td>69.0</td>\n",
       "      <td>...</td>\n",
       "      <td>39.0</td>\n",
       "      <td>39.0</td>\n",
       "      <td>40.0</td>\n",
       "      <td>65.0</td>\n",
       "      <td>68.0</td>\n",
       "      <td>57.0</td>\n",
       "      <td>52.0</td>\n",
       "      <td>53.0</td>\n",
       "      <td>47.0</td>\n",
       "      <td>52.0</td>\n",
       "    </tr>\n",
       "    <tr>\n",
       "      <th>WindChillF_y</th>\n",
       "      <td>67.0</td>\n",
       "      <td>67.0</td>\n",
       "      <td>67.0</td>\n",
       "      <td>67.0</td>\n",
       "      <td>67.0</td>\n",
       "      <td>67.0</td>\n",
       "      <td>67.0</td>\n",
       "      <td>67.0</td>\n",
       "      <td>67.0</td>\n",
       "      <td>67.0</td>\n",
       "      <td>...</td>\n",
       "      <td>37.0</td>\n",
       "      <td>34.0</td>\n",
       "      <td>32.0</td>\n",
       "      <td>65.0</td>\n",
       "      <td>68.0</td>\n",
       "      <td>57.0</td>\n",
       "      <td>52.0</td>\n",
       "      <td>49.0</td>\n",
       "      <td>45.0</td>\n",
       "      <td>52.0</td>\n",
       "    </tr>\n",
       "    <tr>\n",
       "      <th>humidity_y</th>\n",
       "      <td>73.0</td>\n",
       "      <td>73.0</td>\n",
       "      <td>73.0</td>\n",
       "      <td>73.0</td>\n",
       "      <td>73.0</td>\n",
       "      <td>73.0</td>\n",
       "      <td>73.0</td>\n",
       "      <td>73.0</td>\n",
       "      <td>73.0</td>\n",
       "      <td>73.0</td>\n",
       "      <td>...</td>\n",
       "      <td>83.0</td>\n",
       "      <td>89.0</td>\n",
       "      <td>80.0</td>\n",
       "      <td>43.0</td>\n",
       "      <td>54.0</td>\n",
       "      <td>39.0</td>\n",
       "      <td>95.0</td>\n",
       "      <td>92.0</td>\n",
       "      <td>93.0</td>\n",
       "      <td>85.0</td>\n",
       "    </tr>\n",
       "    <tr>\n",
       "      <th>newOrigin</th>\n",
       "      <td>1.0</td>\n",
       "      <td>1.0</td>\n",
       "      <td>9.0</td>\n",
       "      <td>8.0</td>\n",
       "      <td>12.0</td>\n",
       "      <td>15.0</td>\n",
       "      <td>10.0</td>\n",
       "      <td>14.0</td>\n",
       "      <td>15.0</td>\n",
       "      <td>13.0</td>\n",
       "      <td>...</td>\n",
       "      <td>12.0</td>\n",
       "      <td>12.0</td>\n",
       "      <td>12.0</td>\n",
       "      <td>1.0</td>\n",
       "      <td>1.0</td>\n",
       "      <td>1.0</td>\n",
       "      <td>5.0</td>\n",
       "      <td>5.0</td>\n",
       "      <td>5.0</td>\n",
       "      <td>5.0</td>\n",
       "    </tr>\n",
       "    <tr>\n",
       "      <th>newDest</th>\n",
       "      <td>6.0</td>\n",
       "      <td>6.0</td>\n",
       "      <td>6.0</td>\n",
       "      <td>6.0</td>\n",
       "      <td>6.0</td>\n",
       "      <td>6.0</td>\n",
       "      <td>6.0</td>\n",
       "      <td>6.0</td>\n",
       "      <td>6.0</td>\n",
       "      <td>6.0</td>\n",
       "      <td>...</td>\n",
       "      <td>11.0</td>\n",
       "      <td>11.0</td>\n",
       "      <td>11.0</td>\n",
       "      <td>10.0</td>\n",
       "      <td>10.0</td>\n",
       "      <td>10.0</td>\n",
       "      <td>6.0</td>\n",
       "      <td>6.0</td>\n",
       "      <td>6.0</td>\n",
       "      <td>6.0</td>\n",
       "    </tr>\n",
       "    <tr>\n",
       "      <th>predDelay</th>\n",
       "      <td>10.0</td>\n",
       "      <td>0.0</td>\n",
       "      <td>9.0</td>\n",
       "      <td>3.0</td>\n",
       "      <td>15.0</td>\n",
       "      <td>7.0</td>\n",
       "      <td>2.0</td>\n",
       "      <td>8.0</td>\n",
       "      <td>1.0</td>\n",
       "      <td>0.0</td>\n",
       "      <td>...</td>\n",
       "      <td>0.0</td>\n",
       "      <td>2.0</td>\n",
       "      <td>4.0</td>\n",
       "      <td>13.0</td>\n",
       "      <td>5.0</td>\n",
       "      <td>0.0</td>\n",
       "      <td>0.0</td>\n",
       "      <td>0.0</td>\n",
       "      <td>7.0</td>\n",
       "      <td>6.0</td>\n",
       "    </tr>\n",
       "  </tbody>\n",
       "</table>\n",
       "<p>42 rows × 1851334 columns</p>\n",
       "</div>"
      ],
      "text/plain": [
       "                 0        1        2        3        4        5        \\\n",
       "Unnamed: 0           0.0      1.0      2.0      3.0      4.0      5.0   \n",
       "Unnamed: 0.1         0.0      1.0      2.0      3.0      4.0      5.0   \n",
       "Year              2016.0   2016.0   2016.0   2016.0   2016.0   2016.0   \n",
       "Quarter              4.0      4.0      4.0      4.0      4.0      4.0   \n",
       "Month               12.0     12.0     12.0     12.0     12.0     12.0   \n",
       "DayofMonth           1.0      1.0      1.0      1.0      1.0      1.0   \n",
       "OriginAirportID  11298.0  11298.0  13930.0  13303.0  14771.0  11292.0   \n",
       "DestAirportID    12892.0  12892.0  12892.0  12892.0  12892.0  12892.0   \n",
       "DepTime           1630.0   1650.0   1502.0   1424.0   1543.0   1624.0   \n",
       "DepDelayMinutes      0.0     50.0      0.0      9.0      0.0      0.0   \n",
       "DepDel15             0.0      1.0      0.0      0.0      0.0      0.0   \n",
       "CRSArrTime        1758.0   1741.0   1747.0   1719.0   1725.0   1755.0   \n",
       "ArrTime           1748.0   1832.0   1738.0   1716.0   1710.0   1748.0   \n",
       "ArrDelayMinutes      0.0     51.0      0.0      0.0      0.0      0.0   \n",
       "ArrDel15             0.0      1.0      0.0      0.0      0.0      0.0   \n",
       "windspeedKmph_x     19.0     19.0     24.0     15.0     10.0      3.0   \n",
       "winddirDegree_x    169.0    169.0    257.0    140.0    117.0    111.0   \n",
       "weatherCode_x      113.0    113.0    119.0    116.0    113.0    113.0   \n",
       "precipMM_x           0.0      0.0      0.0      0.8      0.0      0.0   \n",
       "visibility_x        10.0     10.0     10.0     10.0     10.0     10.0   \n",
       "pressure_x        1018.0   1018.0   1012.0   1015.0   1020.0   1014.0   \n",
       "cloudcover_x         0.0      0.0     96.0     70.0      0.0      1.0   \n",
       "DewPointF_x         27.0     27.0     34.0     73.0     45.0      9.0   \n",
       "WindGustKmph_x      23.0     23.0     31.0     21.0     12.0      6.0   \n",
       "tempF_x             63.0     63.0     42.0     83.0     62.0     38.0   \n",
       "WindChillF_x        61.0     61.0     33.0     81.0     60.0     35.0   \n",
       "humidity_x          27.0     27.0     77.0     78.0     59.0     32.0   \n",
       "windspeedKmph_y      8.0      8.0      8.0      8.0      8.0      8.0   \n",
       "winddirDegree_y    261.0    261.0    261.0    261.0    261.0    261.0   \n",
       "weatherCode_y      113.0    113.0    113.0    113.0    113.0    113.0   \n",
       "precipMM_y           0.0      0.0      0.0      0.0      0.0      0.0   \n",
       "visibility_y        10.0     10.0     10.0     10.0     10.0     10.0   \n",
       "pressure_y        1014.0   1014.0   1014.0   1014.0   1014.0   1014.0   \n",
       "cloudcover_y         0.0      0.0      0.0      0.0      0.0      0.0   \n",
       "DewPointF_y         59.0     59.0     59.0     59.0     59.0     59.0   \n",
       "WindGustKmph_y      10.0     10.0     10.0     10.0     10.0     10.0   \n",
       "tempF_y             69.0     69.0     69.0     69.0     69.0     69.0   \n",
       "WindChillF_y        67.0     67.0     67.0     67.0     67.0     67.0   \n",
       "humidity_y          73.0     73.0     73.0     73.0     73.0     73.0   \n",
       "newOrigin            1.0      1.0      9.0      8.0     12.0     15.0   \n",
       "newDest              6.0      6.0      6.0      6.0      6.0      6.0   \n",
       "predDelay           10.0      0.0      9.0      3.0     15.0      7.0   \n",
       "\n",
       "                 6        7        8        9        ...    1851324  \\\n",
       "Unnamed: 0           6.0      7.0      8.0      9.0  ...  1851324.0   \n",
       "Unnamed: 0.1         6.0      7.0      8.0      9.0  ...  1877184.0   \n",
       "Year              2016.0   2016.0   2016.0   2016.0  ...     2017.0   \n",
       "Quarter              4.0      4.0      4.0      4.0  ...        1.0   \n",
       "Month               12.0     12.0     12.0     12.0  ...        2.0   \n",
       "DayofMonth           1.0      1.0      1.0      1.0  ...       12.0   \n",
       "OriginAirportID  14107.0  11057.0  11292.0  10397.0  ...    14771.0   \n",
       "DestAirportID    12892.0  12892.0  12892.0  12892.0  ...    14747.0   \n",
       "DepTime           1733.0   1451.0   1609.0   1520.0  ...      556.0   \n",
       "DepDelayMinutes      8.0      1.0     14.0     19.0  ...        6.0   \n",
       "DepDel15             0.0      0.0      0.0      1.0  ...        0.0   \n",
       "CRSArrTime        1745.0   1726.0   1730.0   1710.0  ...      755.0   \n",
       "ArrTime           1743.0   1718.0   1729.0   1715.0  ...      810.0   \n",
       "ArrDelayMinutes      0.0      0.0      0.0      5.0  ...       15.0   \n",
       "ArrDel15             0.0      0.0      0.0      0.0  ...        1.0   \n",
       "windspeedKmph_x      5.0     14.0      1.0     15.0  ...        3.0   \n",
       "winddirDegree_x    278.0    275.0    132.0    292.0  ...       83.0   \n",
       "weatherCode_x      116.0    113.0    113.0    113.0  ...      248.0   \n",
       "precipMM_x           0.0      0.0      0.0      0.0  ...        0.0   \n",
       "visibility_x        10.0     10.0     10.0     10.0  ...        0.0   \n",
       "pressure_x        1013.0   1014.0   1014.0   1018.0  ...     1023.0   \n",
       "cloudcover_x        18.0      0.0      1.0      0.0  ...      100.0   \n",
       "DewPointF_x         24.0     36.0     10.0     39.0  ...       45.0   \n",
       "WindGustKmph_x       5.0     17.0      3.0     18.0  ...        6.0   \n",
       "tempF_x             63.0     57.0     40.0     57.0  ...       46.0   \n",
       "WindChillF_x        63.0     53.0     39.0     53.0  ...       46.0   \n",
       "humidity_x          22.0     48.0     29.0     54.0  ...       98.0   \n",
       "windspeedKmph_y      8.0      8.0      8.0      8.0  ...        4.0   \n",
       "winddirDegree_y    261.0    261.0    261.0    261.0  ...       97.0   \n",
       "weatherCode_y      113.0    113.0    113.0    113.0  ...      122.0   \n",
       "precipMM_y           0.0      0.0      0.0      0.0  ...        0.0   \n",
       "visibility_y        10.0     10.0     10.0     10.0  ...       10.0   \n",
       "pressure_y        1014.0   1014.0   1014.0   1014.0  ...     1031.0   \n",
       "cloudcover_y         0.0      0.0      0.0      0.0  ...      100.0   \n",
       "DewPointF_y         59.0     59.0     59.0     59.0  ...       34.0   \n",
       "WindGustKmph_y      10.0     10.0     10.0     10.0  ...        9.0   \n",
       "tempF_y             69.0     69.0     69.0     69.0  ...       39.0   \n",
       "WindChillF_y        67.0     67.0     67.0     67.0  ...       37.0   \n",
       "humidity_y          73.0     73.0     73.0     73.0  ...       83.0   \n",
       "newOrigin           10.0     14.0     15.0     13.0  ...       12.0   \n",
       "newDest              6.0      6.0      6.0      6.0  ...       11.0   \n",
       "predDelay            2.0      8.0      1.0      0.0  ...        0.0   \n",
       "\n",
       "                   1851325    1851326    1851327    1851328    1851329  \\\n",
       "Unnamed: 0       1851325.0  1851326.0  1851327.0  1851328.0  1851329.0   \n",
       "Unnamed: 0.1     1877185.0  1877186.0  1877187.0  1877188.0  1877189.0   \n",
       "Year                2017.0     2017.0     2017.0     2017.0     2017.0   \n",
       "Quarter                1.0        1.0        1.0        1.0        1.0   \n",
       "Month                  2.0        2.0        2.0        2.0        2.0   \n",
       "DayofMonth            11.0       10.0        4.0       11.0       25.0   \n",
       "OriginAirportID    14771.0    14771.0    11298.0    11298.0    11298.0   \n",
       "DestAirportID      14747.0    14747.0    14107.0    14107.0    14107.0   \n",
       "DepTime              543.0      548.0     2317.0     2319.0     2325.0   \n",
       "DepDelayMinutes        0.0        0.0        0.0        0.0        0.0   \n",
       "DepDel15               0.0        0.0        0.0        0.0        0.0   \n",
       "CRSArrTime           755.0      755.0       55.0       58.0       58.0   \n",
       "ArrTime              753.0      751.0       42.0       53.0      104.0   \n",
       "ArrDelayMinutes        0.0        0.0        0.0        0.0        6.0   \n",
       "ArrDel15               0.0        0.0        0.0        0.0        0.0   \n",
       "windspeedKmph_x       13.0        8.0       15.0       20.0        6.0   \n",
       "winddirDegree_x      320.0      246.0      171.0      188.0      122.0   \n",
       "weatherCode_x        176.0      248.0      122.0      113.0      122.0   \n",
       "precipMM_x             0.0        0.8        0.0        0.0        0.0   \n",
       "visibility_x          10.0        7.0       10.0       10.0       10.0   \n",
       "pressure_x          1022.0     1015.0     1019.0     1012.0     1019.0   \n",
       "cloudcover_x          93.0      100.0      100.0        0.0       24.0   \n",
       "DewPointF_x           47.0       51.0       43.0       64.0       28.0   \n",
       "WindGustKmph_x        16.0       17.0       22.0       38.0        8.0   \n",
       "tempF_x               50.0       52.0       44.0       68.0       53.0   \n",
       "WindChillF_x          46.0       50.0       42.0       68.0       53.0   \n",
       "humidity_x            92.0       98.0       79.0       72.0       39.0   \n",
       "windspeedKmph_y       10.0       25.0        9.0        4.0        6.0   \n",
       "winddirDegree_y      189.0      189.0       44.0      340.0       46.0   \n",
       "weatherCode_y        122.0      122.0      113.0      122.0      122.0   \n",
       "precipMM_y             0.0        0.1        0.0        0.0        0.0   \n",
       "visibility_y          10.0        9.0       10.0       10.0       10.0   \n",
       "pressure_y          1027.0     1003.0     1015.0     1015.0     1014.0   \n",
       "cloudcover_y          65.0       98.0        0.0      100.0      100.0   \n",
       "DewPointF_y           36.0       35.0       42.0       51.0       32.0   \n",
       "WindGustKmph_y        14.0       49.0       15.0        6.0       10.0   \n",
       "tempF_y               39.0       40.0       65.0       68.0       57.0   \n",
       "WindChillF_y          34.0       32.0       65.0       68.0       57.0   \n",
       "humidity_y            89.0       80.0       43.0       54.0       39.0   \n",
       "newOrigin             12.0       12.0        1.0        1.0        1.0   \n",
       "newDest               11.0       11.0       10.0       10.0       10.0   \n",
       "predDelay              2.0        4.0       13.0        5.0        0.0   \n",
       "\n",
       "                   1851330    1851331    1851332    1851333  \n",
       "Unnamed: 0       1851330.0  1851331.0  1851332.0  1851333.0  \n",
       "Unnamed: 0.1     1877190.0  1877191.0  1877192.0  1877193.0  \n",
       "Year                2017.0     2017.0     2017.0     2017.0  \n",
       "Quarter                1.0        1.0        1.0        1.0  \n",
       "Month                  2.0        2.0        2.0        2.0  \n",
       "DayofMonth            19.0       18.0       25.0       26.0  \n",
       "OriginAirportID    12889.0    12889.0    12889.0    12889.0  \n",
       "DestAirportID      12892.0    12892.0    12892.0    12892.0  \n",
       "DepTime              548.0      548.0      546.0      547.0  \n",
       "DepDelayMinutes        0.0        0.0        0.0        0.0  \n",
       "DepDel15               0.0        0.0        0.0        0.0  \n",
       "CRSArrTime           655.0      655.0      655.0      655.0  \n",
       "ArrTime              647.0      655.0      648.0      649.0  \n",
       "ArrDelayMinutes        0.0        0.0        0.0        0.0  \n",
       "ArrDel15               0.0        0.0        0.0        0.0  \n",
       "windspeedKmph_x        3.0       18.0        3.0        5.0  \n",
       "winddirDegree_x      201.0      138.0       97.0      335.0  \n",
       "weatherCode_x        122.0      296.0      113.0      113.0  \n",
       "precipMM_x             0.1        0.7        0.0        0.0  \n",
       "visibility_x          10.0        5.0       10.0       10.0  \n",
       "pressure_x          1006.0     1000.0     1022.0     1015.0  \n",
       "cloudcover_x          87.0      100.0        0.0       43.0  \n",
       "DewPointF_x           47.0       40.0       23.0       24.0  \n",
       "WindGustKmph_x         4.0       32.0        4.0        9.0  \n",
       "tempF_x               50.0       47.0       39.0       37.0  \n",
       "WindChillF_x          50.0       41.0       38.0       35.0  \n",
       "humidity_x            91.0       80.0       52.0       59.0  \n",
       "windspeedKmph_y        4.0       18.0        7.0        4.0  \n",
       "winddirDegree_y       78.0      109.0       61.0      206.0  \n",
       "weatherCode_y        143.0      353.0      116.0      263.0  \n",
       "precipMM_y             0.0        2.1        0.0        0.5  \n",
       "visibility_y           2.0        8.0       10.0        3.0  \n",
       "pressure_y          1010.0     1000.0     1020.0     1016.0  \n",
       "cloudcover_y         100.0      100.0       36.0       90.0  \n",
       "DewPointF_y           51.0       50.0       45.0       47.0  \n",
       "WindGustKmph_y         5.0       32.0       13.0        5.0  \n",
       "tempF_y               52.0       53.0       47.0       52.0  \n",
       "WindChillF_y          52.0       49.0       45.0       52.0  \n",
       "humidity_y            95.0       92.0       93.0       85.0  \n",
       "newOrigin              5.0        5.0        5.0        5.0  \n",
       "newDest                6.0        6.0        6.0        6.0  \n",
       "predDelay              0.0        0.0        7.0        6.0  \n",
       "\n",
       "[42 rows x 1851334 columns]"
      ]
     },
     "execution_count": 3,
     "metadata": {},
     "output_type": "execute_result"
    }
   ],
   "source": [
    "df.transpose()"
   ]
  },
  {
   "cell_type": "code",
   "execution_count": 9,
   "metadata": {},
   "outputs": [],
   "source": [
    "x = df.copy() "
   ]
  },
  {
   "cell_type": "code",
   "execution_count": 10,
   "metadata": {},
   "outputs": [],
   "source": [
    "y = x['ArrDel15']"
   ]
  },
  {
   "cell_type": "code",
   "execution_count": 11,
   "metadata": {},
   "outputs": [],
   "source": [
    "x = x.drop(['Unnamed: 0','Unnamed: 0.1','ArrDel15','OriginAirportID','DestAirportID','DepDelayMinutes','DepDel15','ArrDelayMinutes','ArrDel15','predDelay','ArrTime'],axis=1)"
   ]
  },
  {
   "cell_type": "code",
   "execution_count": 12,
   "metadata": {},
   "outputs": [
    {
     "data": {
      "text/html": [
       "<div>\n",
       "<style scoped>\n",
       "    .dataframe tbody tr th:only-of-type {\n",
       "        vertical-align: middle;\n",
       "    }\n",
       "\n",
       "    .dataframe tbody tr th {\n",
       "        vertical-align: top;\n",
       "    }\n",
       "\n",
       "    .dataframe thead th {\n",
       "        text-align: right;\n",
       "    }\n",
       "</style>\n",
       "<table border=\"1\" class=\"dataframe\">\n",
       "  <thead>\n",
       "    <tr style=\"text-align: right;\">\n",
       "      <th></th>\n",
       "      <th>0</th>\n",
       "      <th>1</th>\n",
       "      <th>2</th>\n",
       "      <th>3</th>\n",
       "      <th>4</th>\n",
       "      <th>5</th>\n",
       "      <th>6</th>\n",
       "      <th>7</th>\n",
       "      <th>8</th>\n",
       "      <th>9</th>\n",
       "      <th>...</th>\n",
       "      <th>1851324</th>\n",
       "      <th>1851325</th>\n",
       "      <th>1851326</th>\n",
       "      <th>1851327</th>\n",
       "      <th>1851328</th>\n",
       "      <th>1851329</th>\n",
       "      <th>1851330</th>\n",
       "      <th>1851331</th>\n",
       "      <th>1851332</th>\n",
       "      <th>1851333</th>\n",
       "    </tr>\n",
       "  </thead>\n",
       "  <tbody>\n",
       "    <tr>\n",
       "      <th>Year</th>\n",
       "      <td>2016.0</td>\n",
       "      <td>2016.0</td>\n",
       "      <td>2016.0</td>\n",
       "      <td>2016.0</td>\n",
       "      <td>2016.0</td>\n",
       "      <td>2016.0</td>\n",
       "      <td>2016.0</td>\n",
       "      <td>2016.0</td>\n",
       "      <td>2016.0</td>\n",
       "      <td>2016.0</td>\n",
       "      <td>...</td>\n",
       "      <td>2017.0</td>\n",
       "      <td>2017.0</td>\n",
       "      <td>2017.0</td>\n",
       "      <td>2017.0</td>\n",
       "      <td>2017.0</td>\n",
       "      <td>2017.0</td>\n",
       "      <td>2017.0</td>\n",
       "      <td>2017.0</td>\n",
       "      <td>2017.0</td>\n",
       "      <td>2017.0</td>\n",
       "    </tr>\n",
       "    <tr>\n",
       "      <th>Quarter</th>\n",
       "      <td>4.0</td>\n",
       "      <td>4.0</td>\n",
       "      <td>4.0</td>\n",
       "      <td>4.0</td>\n",
       "      <td>4.0</td>\n",
       "      <td>4.0</td>\n",
       "      <td>4.0</td>\n",
       "      <td>4.0</td>\n",
       "      <td>4.0</td>\n",
       "      <td>4.0</td>\n",
       "      <td>...</td>\n",
       "      <td>1.0</td>\n",
       "      <td>1.0</td>\n",
       "      <td>1.0</td>\n",
       "      <td>1.0</td>\n",
       "      <td>1.0</td>\n",
       "      <td>1.0</td>\n",
       "      <td>1.0</td>\n",
       "      <td>1.0</td>\n",
       "      <td>1.0</td>\n",
       "      <td>1.0</td>\n",
       "    </tr>\n",
       "    <tr>\n",
       "      <th>Month</th>\n",
       "      <td>12.0</td>\n",
       "      <td>12.0</td>\n",
       "      <td>12.0</td>\n",
       "      <td>12.0</td>\n",
       "      <td>12.0</td>\n",
       "      <td>12.0</td>\n",
       "      <td>12.0</td>\n",
       "      <td>12.0</td>\n",
       "      <td>12.0</td>\n",
       "      <td>12.0</td>\n",
       "      <td>...</td>\n",
       "      <td>2.0</td>\n",
       "      <td>2.0</td>\n",
       "      <td>2.0</td>\n",
       "      <td>2.0</td>\n",
       "      <td>2.0</td>\n",
       "      <td>2.0</td>\n",
       "      <td>2.0</td>\n",
       "      <td>2.0</td>\n",
       "      <td>2.0</td>\n",
       "      <td>2.0</td>\n",
       "    </tr>\n",
       "    <tr>\n",
       "      <th>DayofMonth</th>\n",
       "      <td>1.0</td>\n",
       "      <td>1.0</td>\n",
       "      <td>1.0</td>\n",
       "      <td>1.0</td>\n",
       "      <td>1.0</td>\n",
       "      <td>1.0</td>\n",
       "      <td>1.0</td>\n",
       "      <td>1.0</td>\n",
       "      <td>1.0</td>\n",
       "      <td>1.0</td>\n",
       "      <td>...</td>\n",
       "      <td>12.0</td>\n",
       "      <td>11.0</td>\n",
       "      <td>10.0</td>\n",
       "      <td>4.0</td>\n",
       "      <td>11.0</td>\n",
       "      <td>25.0</td>\n",
       "      <td>19.0</td>\n",
       "      <td>18.0</td>\n",
       "      <td>25.0</td>\n",
       "      <td>26.0</td>\n",
       "    </tr>\n",
       "    <tr>\n",
       "      <th>DepTime</th>\n",
       "      <td>1630.0</td>\n",
       "      <td>1650.0</td>\n",
       "      <td>1502.0</td>\n",
       "      <td>1424.0</td>\n",
       "      <td>1543.0</td>\n",
       "      <td>1624.0</td>\n",
       "      <td>1733.0</td>\n",
       "      <td>1451.0</td>\n",
       "      <td>1609.0</td>\n",
       "      <td>1520.0</td>\n",
       "      <td>...</td>\n",
       "      <td>556.0</td>\n",
       "      <td>543.0</td>\n",
       "      <td>548.0</td>\n",
       "      <td>2317.0</td>\n",
       "      <td>2319.0</td>\n",
       "      <td>2325.0</td>\n",
       "      <td>548.0</td>\n",
       "      <td>548.0</td>\n",
       "      <td>546.0</td>\n",
       "      <td>547.0</td>\n",
       "    </tr>\n",
       "    <tr>\n",
       "      <th>CRSArrTime</th>\n",
       "      <td>1758.0</td>\n",
       "      <td>1741.0</td>\n",
       "      <td>1747.0</td>\n",
       "      <td>1719.0</td>\n",
       "      <td>1725.0</td>\n",
       "      <td>1755.0</td>\n",
       "      <td>1745.0</td>\n",
       "      <td>1726.0</td>\n",
       "      <td>1730.0</td>\n",
       "      <td>1710.0</td>\n",
       "      <td>...</td>\n",
       "      <td>755.0</td>\n",
       "      <td>755.0</td>\n",
       "      <td>755.0</td>\n",
       "      <td>55.0</td>\n",
       "      <td>58.0</td>\n",
       "      <td>58.0</td>\n",
       "      <td>655.0</td>\n",
       "      <td>655.0</td>\n",
       "      <td>655.0</td>\n",
       "      <td>655.0</td>\n",
       "    </tr>\n",
       "    <tr>\n",
       "      <th>windspeedKmph_x</th>\n",
       "      <td>19.0</td>\n",
       "      <td>19.0</td>\n",
       "      <td>24.0</td>\n",
       "      <td>15.0</td>\n",
       "      <td>10.0</td>\n",
       "      <td>3.0</td>\n",
       "      <td>5.0</td>\n",
       "      <td>14.0</td>\n",
       "      <td>1.0</td>\n",
       "      <td>15.0</td>\n",
       "      <td>...</td>\n",
       "      <td>3.0</td>\n",
       "      <td>13.0</td>\n",
       "      <td>8.0</td>\n",
       "      <td>15.0</td>\n",
       "      <td>20.0</td>\n",
       "      <td>6.0</td>\n",
       "      <td>3.0</td>\n",
       "      <td>18.0</td>\n",
       "      <td>3.0</td>\n",
       "      <td>5.0</td>\n",
       "    </tr>\n",
       "    <tr>\n",
       "      <th>winddirDegree_x</th>\n",
       "      <td>169.0</td>\n",
       "      <td>169.0</td>\n",
       "      <td>257.0</td>\n",
       "      <td>140.0</td>\n",
       "      <td>117.0</td>\n",
       "      <td>111.0</td>\n",
       "      <td>278.0</td>\n",
       "      <td>275.0</td>\n",
       "      <td>132.0</td>\n",
       "      <td>292.0</td>\n",
       "      <td>...</td>\n",
       "      <td>83.0</td>\n",
       "      <td>320.0</td>\n",
       "      <td>246.0</td>\n",
       "      <td>171.0</td>\n",
       "      <td>188.0</td>\n",
       "      <td>122.0</td>\n",
       "      <td>201.0</td>\n",
       "      <td>138.0</td>\n",
       "      <td>97.0</td>\n",
       "      <td>335.0</td>\n",
       "    </tr>\n",
       "    <tr>\n",
       "      <th>weatherCode_x</th>\n",
       "      <td>113.0</td>\n",
       "      <td>113.0</td>\n",
       "      <td>119.0</td>\n",
       "      <td>116.0</td>\n",
       "      <td>113.0</td>\n",
       "      <td>113.0</td>\n",
       "      <td>116.0</td>\n",
       "      <td>113.0</td>\n",
       "      <td>113.0</td>\n",
       "      <td>113.0</td>\n",
       "      <td>...</td>\n",
       "      <td>248.0</td>\n",
       "      <td>176.0</td>\n",
       "      <td>248.0</td>\n",
       "      <td>122.0</td>\n",
       "      <td>113.0</td>\n",
       "      <td>122.0</td>\n",
       "      <td>122.0</td>\n",
       "      <td>296.0</td>\n",
       "      <td>113.0</td>\n",
       "      <td>113.0</td>\n",
       "    </tr>\n",
       "    <tr>\n",
       "      <th>precipMM_x</th>\n",
       "      <td>0.0</td>\n",
       "      <td>0.0</td>\n",
       "      <td>0.0</td>\n",
       "      <td>0.8</td>\n",
       "      <td>0.0</td>\n",
       "      <td>0.0</td>\n",
       "      <td>0.0</td>\n",
       "      <td>0.0</td>\n",
       "      <td>0.0</td>\n",
       "      <td>0.0</td>\n",
       "      <td>...</td>\n",
       "      <td>0.0</td>\n",
       "      <td>0.0</td>\n",
       "      <td>0.8</td>\n",
       "      <td>0.0</td>\n",
       "      <td>0.0</td>\n",
       "      <td>0.0</td>\n",
       "      <td>0.1</td>\n",
       "      <td>0.7</td>\n",
       "      <td>0.0</td>\n",
       "      <td>0.0</td>\n",
       "    </tr>\n",
       "    <tr>\n",
       "      <th>visibility_x</th>\n",
       "      <td>10.0</td>\n",
       "      <td>10.0</td>\n",
       "      <td>10.0</td>\n",
       "      <td>10.0</td>\n",
       "      <td>10.0</td>\n",
       "      <td>10.0</td>\n",
       "      <td>10.0</td>\n",
       "      <td>10.0</td>\n",
       "      <td>10.0</td>\n",
       "      <td>10.0</td>\n",
       "      <td>...</td>\n",
       "      <td>0.0</td>\n",
       "      <td>10.0</td>\n",
       "      <td>7.0</td>\n",
       "      <td>10.0</td>\n",
       "      <td>10.0</td>\n",
       "      <td>10.0</td>\n",
       "      <td>10.0</td>\n",
       "      <td>5.0</td>\n",
       "      <td>10.0</td>\n",
       "      <td>10.0</td>\n",
       "    </tr>\n",
       "    <tr>\n",
       "      <th>pressure_x</th>\n",
       "      <td>1018.0</td>\n",
       "      <td>1018.0</td>\n",
       "      <td>1012.0</td>\n",
       "      <td>1015.0</td>\n",
       "      <td>1020.0</td>\n",
       "      <td>1014.0</td>\n",
       "      <td>1013.0</td>\n",
       "      <td>1014.0</td>\n",
       "      <td>1014.0</td>\n",
       "      <td>1018.0</td>\n",
       "      <td>...</td>\n",
       "      <td>1023.0</td>\n",
       "      <td>1022.0</td>\n",
       "      <td>1015.0</td>\n",
       "      <td>1019.0</td>\n",
       "      <td>1012.0</td>\n",
       "      <td>1019.0</td>\n",
       "      <td>1006.0</td>\n",
       "      <td>1000.0</td>\n",
       "      <td>1022.0</td>\n",
       "      <td>1015.0</td>\n",
       "    </tr>\n",
       "    <tr>\n",
       "      <th>cloudcover_x</th>\n",
       "      <td>0.0</td>\n",
       "      <td>0.0</td>\n",
       "      <td>96.0</td>\n",
       "      <td>70.0</td>\n",
       "      <td>0.0</td>\n",
       "      <td>1.0</td>\n",
       "      <td>18.0</td>\n",
       "      <td>0.0</td>\n",
       "      <td>1.0</td>\n",
       "      <td>0.0</td>\n",
       "      <td>...</td>\n",
       "      <td>100.0</td>\n",
       "      <td>93.0</td>\n",
       "      <td>100.0</td>\n",
       "      <td>100.0</td>\n",
       "      <td>0.0</td>\n",
       "      <td>24.0</td>\n",
       "      <td>87.0</td>\n",
       "      <td>100.0</td>\n",
       "      <td>0.0</td>\n",
       "      <td>43.0</td>\n",
       "    </tr>\n",
       "    <tr>\n",
       "      <th>DewPointF_x</th>\n",
       "      <td>27.0</td>\n",
       "      <td>27.0</td>\n",
       "      <td>34.0</td>\n",
       "      <td>73.0</td>\n",
       "      <td>45.0</td>\n",
       "      <td>9.0</td>\n",
       "      <td>24.0</td>\n",
       "      <td>36.0</td>\n",
       "      <td>10.0</td>\n",
       "      <td>39.0</td>\n",
       "      <td>...</td>\n",
       "      <td>45.0</td>\n",
       "      <td>47.0</td>\n",
       "      <td>51.0</td>\n",
       "      <td>43.0</td>\n",
       "      <td>64.0</td>\n",
       "      <td>28.0</td>\n",
       "      <td>47.0</td>\n",
       "      <td>40.0</td>\n",
       "      <td>23.0</td>\n",
       "      <td>24.0</td>\n",
       "    </tr>\n",
       "    <tr>\n",
       "      <th>WindGustKmph_x</th>\n",
       "      <td>23.0</td>\n",
       "      <td>23.0</td>\n",
       "      <td>31.0</td>\n",
       "      <td>21.0</td>\n",
       "      <td>12.0</td>\n",
       "      <td>6.0</td>\n",
       "      <td>5.0</td>\n",
       "      <td>17.0</td>\n",
       "      <td>3.0</td>\n",
       "      <td>18.0</td>\n",
       "      <td>...</td>\n",
       "      <td>6.0</td>\n",
       "      <td>16.0</td>\n",
       "      <td>17.0</td>\n",
       "      <td>22.0</td>\n",
       "      <td>38.0</td>\n",
       "      <td>8.0</td>\n",
       "      <td>4.0</td>\n",
       "      <td>32.0</td>\n",
       "      <td>4.0</td>\n",
       "      <td>9.0</td>\n",
       "    </tr>\n",
       "    <tr>\n",
       "      <th>tempF_x</th>\n",
       "      <td>63.0</td>\n",
       "      <td>63.0</td>\n",
       "      <td>42.0</td>\n",
       "      <td>83.0</td>\n",
       "      <td>62.0</td>\n",
       "      <td>38.0</td>\n",
       "      <td>63.0</td>\n",
       "      <td>57.0</td>\n",
       "      <td>40.0</td>\n",
       "      <td>57.0</td>\n",
       "      <td>...</td>\n",
       "      <td>46.0</td>\n",
       "      <td>50.0</td>\n",
       "      <td>52.0</td>\n",
       "      <td>44.0</td>\n",
       "      <td>68.0</td>\n",
       "      <td>53.0</td>\n",
       "      <td>50.0</td>\n",
       "      <td>47.0</td>\n",
       "      <td>39.0</td>\n",
       "      <td>37.0</td>\n",
       "    </tr>\n",
       "    <tr>\n",
       "      <th>WindChillF_x</th>\n",
       "      <td>61.0</td>\n",
       "      <td>61.0</td>\n",
       "      <td>33.0</td>\n",
       "      <td>81.0</td>\n",
       "      <td>60.0</td>\n",
       "      <td>35.0</td>\n",
       "      <td>63.0</td>\n",
       "      <td>53.0</td>\n",
       "      <td>39.0</td>\n",
       "      <td>53.0</td>\n",
       "      <td>...</td>\n",
       "      <td>46.0</td>\n",
       "      <td>46.0</td>\n",
       "      <td>50.0</td>\n",
       "      <td>42.0</td>\n",
       "      <td>68.0</td>\n",
       "      <td>53.0</td>\n",
       "      <td>50.0</td>\n",
       "      <td>41.0</td>\n",
       "      <td>38.0</td>\n",
       "      <td>35.0</td>\n",
       "    </tr>\n",
       "    <tr>\n",
       "      <th>humidity_x</th>\n",
       "      <td>27.0</td>\n",
       "      <td>27.0</td>\n",
       "      <td>77.0</td>\n",
       "      <td>78.0</td>\n",
       "      <td>59.0</td>\n",
       "      <td>32.0</td>\n",
       "      <td>22.0</td>\n",
       "      <td>48.0</td>\n",
       "      <td>29.0</td>\n",
       "      <td>54.0</td>\n",
       "      <td>...</td>\n",
       "      <td>98.0</td>\n",
       "      <td>92.0</td>\n",
       "      <td>98.0</td>\n",
       "      <td>79.0</td>\n",
       "      <td>72.0</td>\n",
       "      <td>39.0</td>\n",
       "      <td>91.0</td>\n",
       "      <td>80.0</td>\n",
       "      <td>52.0</td>\n",
       "      <td>59.0</td>\n",
       "    </tr>\n",
       "    <tr>\n",
       "      <th>windspeedKmph_y</th>\n",
       "      <td>8.0</td>\n",
       "      <td>8.0</td>\n",
       "      <td>8.0</td>\n",
       "      <td>8.0</td>\n",
       "      <td>8.0</td>\n",
       "      <td>8.0</td>\n",
       "      <td>8.0</td>\n",
       "      <td>8.0</td>\n",
       "      <td>8.0</td>\n",
       "      <td>8.0</td>\n",
       "      <td>...</td>\n",
       "      <td>4.0</td>\n",
       "      <td>10.0</td>\n",
       "      <td>25.0</td>\n",
       "      <td>9.0</td>\n",
       "      <td>4.0</td>\n",
       "      <td>6.0</td>\n",
       "      <td>4.0</td>\n",
       "      <td>18.0</td>\n",
       "      <td>7.0</td>\n",
       "      <td>4.0</td>\n",
       "    </tr>\n",
       "    <tr>\n",
       "      <th>winddirDegree_y</th>\n",
       "      <td>261.0</td>\n",
       "      <td>261.0</td>\n",
       "      <td>261.0</td>\n",
       "      <td>261.0</td>\n",
       "      <td>261.0</td>\n",
       "      <td>261.0</td>\n",
       "      <td>261.0</td>\n",
       "      <td>261.0</td>\n",
       "      <td>261.0</td>\n",
       "      <td>261.0</td>\n",
       "      <td>...</td>\n",
       "      <td>97.0</td>\n",
       "      <td>189.0</td>\n",
       "      <td>189.0</td>\n",
       "      <td>44.0</td>\n",
       "      <td>340.0</td>\n",
       "      <td>46.0</td>\n",
       "      <td>78.0</td>\n",
       "      <td>109.0</td>\n",
       "      <td>61.0</td>\n",
       "      <td>206.0</td>\n",
       "    </tr>\n",
       "    <tr>\n",
       "      <th>weatherCode_y</th>\n",
       "      <td>113.0</td>\n",
       "      <td>113.0</td>\n",
       "      <td>113.0</td>\n",
       "      <td>113.0</td>\n",
       "      <td>113.0</td>\n",
       "      <td>113.0</td>\n",
       "      <td>113.0</td>\n",
       "      <td>113.0</td>\n",
       "      <td>113.0</td>\n",
       "      <td>113.0</td>\n",
       "      <td>...</td>\n",
       "      <td>122.0</td>\n",
       "      <td>122.0</td>\n",
       "      <td>122.0</td>\n",
       "      <td>113.0</td>\n",
       "      <td>122.0</td>\n",
       "      <td>122.0</td>\n",
       "      <td>143.0</td>\n",
       "      <td>353.0</td>\n",
       "      <td>116.0</td>\n",
       "      <td>263.0</td>\n",
       "    </tr>\n",
       "    <tr>\n",
       "      <th>precipMM_y</th>\n",
       "      <td>0.0</td>\n",
       "      <td>0.0</td>\n",
       "      <td>0.0</td>\n",
       "      <td>0.0</td>\n",
       "      <td>0.0</td>\n",
       "      <td>0.0</td>\n",
       "      <td>0.0</td>\n",
       "      <td>0.0</td>\n",
       "      <td>0.0</td>\n",
       "      <td>0.0</td>\n",
       "      <td>...</td>\n",
       "      <td>0.0</td>\n",
       "      <td>0.0</td>\n",
       "      <td>0.1</td>\n",
       "      <td>0.0</td>\n",
       "      <td>0.0</td>\n",
       "      <td>0.0</td>\n",
       "      <td>0.0</td>\n",
       "      <td>2.1</td>\n",
       "      <td>0.0</td>\n",
       "      <td>0.5</td>\n",
       "    </tr>\n",
       "    <tr>\n",
       "      <th>visibility_y</th>\n",
       "      <td>10.0</td>\n",
       "      <td>10.0</td>\n",
       "      <td>10.0</td>\n",
       "      <td>10.0</td>\n",
       "      <td>10.0</td>\n",
       "      <td>10.0</td>\n",
       "      <td>10.0</td>\n",
       "      <td>10.0</td>\n",
       "      <td>10.0</td>\n",
       "      <td>10.0</td>\n",
       "      <td>...</td>\n",
       "      <td>10.0</td>\n",
       "      <td>10.0</td>\n",
       "      <td>9.0</td>\n",
       "      <td>10.0</td>\n",
       "      <td>10.0</td>\n",
       "      <td>10.0</td>\n",
       "      <td>2.0</td>\n",
       "      <td>8.0</td>\n",
       "      <td>10.0</td>\n",
       "      <td>3.0</td>\n",
       "    </tr>\n",
       "    <tr>\n",
       "      <th>pressure_y</th>\n",
       "      <td>1014.0</td>\n",
       "      <td>1014.0</td>\n",
       "      <td>1014.0</td>\n",
       "      <td>1014.0</td>\n",
       "      <td>1014.0</td>\n",
       "      <td>1014.0</td>\n",
       "      <td>1014.0</td>\n",
       "      <td>1014.0</td>\n",
       "      <td>1014.0</td>\n",
       "      <td>1014.0</td>\n",
       "      <td>...</td>\n",
       "      <td>1031.0</td>\n",
       "      <td>1027.0</td>\n",
       "      <td>1003.0</td>\n",
       "      <td>1015.0</td>\n",
       "      <td>1015.0</td>\n",
       "      <td>1014.0</td>\n",
       "      <td>1010.0</td>\n",
       "      <td>1000.0</td>\n",
       "      <td>1020.0</td>\n",
       "      <td>1016.0</td>\n",
       "    </tr>\n",
       "    <tr>\n",
       "      <th>cloudcover_y</th>\n",
       "      <td>0.0</td>\n",
       "      <td>0.0</td>\n",
       "      <td>0.0</td>\n",
       "      <td>0.0</td>\n",
       "      <td>0.0</td>\n",
       "      <td>0.0</td>\n",
       "      <td>0.0</td>\n",
       "      <td>0.0</td>\n",
       "      <td>0.0</td>\n",
       "      <td>0.0</td>\n",
       "      <td>...</td>\n",
       "      <td>100.0</td>\n",
       "      <td>65.0</td>\n",
       "      <td>98.0</td>\n",
       "      <td>0.0</td>\n",
       "      <td>100.0</td>\n",
       "      <td>100.0</td>\n",
       "      <td>100.0</td>\n",
       "      <td>100.0</td>\n",
       "      <td>36.0</td>\n",
       "      <td>90.0</td>\n",
       "    </tr>\n",
       "    <tr>\n",
       "      <th>DewPointF_y</th>\n",
       "      <td>59.0</td>\n",
       "      <td>59.0</td>\n",
       "      <td>59.0</td>\n",
       "      <td>59.0</td>\n",
       "      <td>59.0</td>\n",
       "      <td>59.0</td>\n",
       "      <td>59.0</td>\n",
       "      <td>59.0</td>\n",
       "      <td>59.0</td>\n",
       "      <td>59.0</td>\n",
       "      <td>...</td>\n",
       "      <td>34.0</td>\n",
       "      <td>36.0</td>\n",
       "      <td>35.0</td>\n",
       "      <td>42.0</td>\n",
       "      <td>51.0</td>\n",
       "      <td>32.0</td>\n",
       "      <td>51.0</td>\n",
       "      <td>50.0</td>\n",
       "      <td>45.0</td>\n",
       "      <td>47.0</td>\n",
       "    </tr>\n",
       "    <tr>\n",
       "      <th>WindGustKmph_y</th>\n",
       "      <td>10.0</td>\n",
       "      <td>10.0</td>\n",
       "      <td>10.0</td>\n",
       "      <td>10.0</td>\n",
       "      <td>10.0</td>\n",
       "      <td>10.0</td>\n",
       "      <td>10.0</td>\n",
       "      <td>10.0</td>\n",
       "      <td>10.0</td>\n",
       "      <td>10.0</td>\n",
       "      <td>...</td>\n",
       "      <td>9.0</td>\n",
       "      <td>14.0</td>\n",
       "      <td>49.0</td>\n",
       "      <td>15.0</td>\n",
       "      <td>6.0</td>\n",
       "      <td>10.0</td>\n",
       "      <td>5.0</td>\n",
       "      <td>32.0</td>\n",
       "      <td>13.0</td>\n",
       "      <td>5.0</td>\n",
       "    </tr>\n",
       "    <tr>\n",
       "      <th>tempF_y</th>\n",
       "      <td>69.0</td>\n",
       "      <td>69.0</td>\n",
       "      <td>69.0</td>\n",
       "      <td>69.0</td>\n",
       "      <td>69.0</td>\n",
       "      <td>69.0</td>\n",
       "      <td>69.0</td>\n",
       "      <td>69.0</td>\n",
       "      <td>69.0</td>\n",
       "      <td>69.0</td>\n",
       "      <td>...</td>\n",
       "      <td>39.0</td>\n",
       "      <td>39.0</td>\n",
       "      <td>40.0</td>\n",
       "      <td>65.0</td>\n",
       "      <td>68.0</td>\n",
       "      <td>57.0</td>\n",
       "      <td>52.0</td>\n",
       "      <td>53.0</td>\n",
       "      <td>47.0</td>\n",
       "      <td>52.0</td>\n",
       "    </tr>\n",
       "    <tr>\n",
       "      <th>WindChillF_y</th>\n",
       "      <td>67.0</td>\n",
       "      <td>67.0</td>\n",
       "      <td>67.0</td>\n",
       "      <td>67.0</td>\n",
       "      <td>67.0</td>\n",
       "      <td>67.0</td>\n",
       "      <td>67.0</td>\n",
       "      <td>67.0</td>\n",
       "      <td>67.0</td>\n",
       "      <td>67.0</td>\n",
       "      <td>...</td>\n",
       "      <td>37.0</td>\n",
       "      <td>34.0</td>\n",
       "      <td>32.0</td>\n",
       "      <td>65.0</td>\n",
       "      <td>68.0</td>\n",
       "      <td>57.0</td>\n",
       "      <td>52.0</td>\n",
       "      <td>49.0</td>\n",
       "      <td>45.0</td>\n",
       "      <td>52.0</td>\n",
       "    </tr>\n",
       "    <tr>\n",
       "      <th>humidity_y</th>\n",
       "      <td>73.0</td>\n",
       "      <td>73.0</td>\n",
       "      <td>73.0</td>\n",
       "      <td>73.0</td>\n",
       "      <td>73.0</td>\n",
       "      <td>73.0</td>\n",
       "      <td>73.0</td>\n",
       "      <td>73.0</td>\n",
       "      <td>73.0</td>\n",
       "      <td>73.0</td>\n",
       "      <td>...</td>\n",
       "      <td>83.0</td>\n",
       "      <td>89.0</td>\n",
       "      <td>80.0</td>\n",
       "      <td>43.0</td>\n",
       "      <td>54.0</td>\n",
       "      <td>39.0</td>\n",
       "      <td>95.0</td>\n",
       "      <td>92.0</td>\n",
       "      <td>93.0</td>\n",
       "      <td>85.0</td>\n",
       "    </tr>\n",
       "    <tr>\n",
       "      <th>newOrigin</th>\n",
       "      <td>1.0</td>\n",
       "      <td>1.0</td>\n",
       "      <td>9.0</td>\n",
       "      <td>8.0</td>\n",
       "      <td>12.0</td>\n",
       "      <td>15.0</td>\n",
       "      <td>10.0</td>\n",
       "      <td>14.0</td>\n",
       "      <td>15.0</td>\n",
       "      <td>13.0</td>\n",
       "      <td>...</td>\n",
       "      <td>12.0</td>\n",
       "      <td>12.0</td>\n",
       "      <td>12.0</td>\n",
       "      <td>1.0</td>\n",
       "      <td>1.0</td>\n",
       "      <td>1.0</td>\n",
       "      <td>5.0</td>\n",
       "      <td>5.0</td>\n",
       "      <td>5.0</td>\n",
       "      <td>5.0</td>\n",
       "    </tr>\n",
       "    <tr>\n",
       "      <th>newDest</th>\n",
       "      <td>6.0</td>\n",
       "      <td>6.0</td>\n",
       "      <td>6.0</td>\n",
       "      <td>6.0</td>\n",
       "      <td>6.0</td>\n",
       "      <td>6.0</td>\n",
       "      <td>6.0</td>\n",
       "      <td>6.0</td>\n",
       "      <td>6.0</td>\n",
       "      <td>6.0</td>\n",
       "      <td>...</td>\n",
       "      <td>11.0</td>\n",
       "      <td>11.0</td>\n",
       "      <td>11.0</td>\n",
       "      <td>10.0</td>\n",
       "      <td>10.0</td>\n",
       "      <td>10.0</td>\n",
       "      <td>6.0</td>\n",
       "      <td>6.0</td>\n",
       "      <td>6.0</td>\n",
       "      <td>6.0</td>\n",
       "    </tr>\n",
       "  </tbody>\n",
       "</table>\n",
       "<p>32 rows × 1851334 columns</p>\n",
       "</div>"
      ],
      "text/plain": [
       "                 0        1        2        3        4        5        \\\n",
       "Year              2016.0   2016.0   2016.0   2016.0   2016.0   2016.0   \n",
       "Quarter              4.0      4.0      4.0      4.0      4.0      4.0   \n",
       "Month               12.0     12.0     12.0     12.0     12.0     12.0   \n",
       "DayofMonth           1.0      1.0      1.0      1.0      1.0      1.0   \n",
       "DepTime           1630.0   1650.0   1502.0   1424.0   1543.0   1624.0   \n",
       "CRSArrTime        1758.0   1741.0   1747.0   1719.0   1725.0   1755.0   \n",
       "windspeedKmph_x     19.0     19.0     24.0     15.0     10.0      3.0   \n",
       "winddirDegree_x    169.0    169.0    257.0    140.0    117.0    111.0   \n",
       "weatherCode_x      113.0    113.0    119.0    116.0    113.0    113.0   \n",
       "precipMM_x           0.0      0.0      0.0      0.8      0.0      0.0   \n",
       "visibility_x        10.0     10.0     10.0     10.0     10.0     10.0   \n",
       "pressure_x        1018.0   1018.0   1012.0   1015.0   1020.0   1014.0   \n",
       "cloudcover_x         0.0      0.0     96.0     70.0      0.0      1.0   \n",
       "DewPointF_x         27.0     27.0     34.0     73.0     45.0      9.0   \n",
       "WindGustKmph_x      23.0     23.0     31.0     21.0     12.0      6.0   \n",
       "tempF_x             63.0     63.0     42.0     83.0     62.0     38.0   \n",
       "WindChillF_x        61.0     61.0     33.0     81.0     60.0     35.0   \n",
       "humidity_x          27.0     27.0     77.0     78.0     59.0     32.0   \n",
       "windspeedKmph_y      8.0      8.0      8.0      8.0      8.0      8.0   \n",
       "winddirDegree_y    261.0    261.0    261.0    261.0    261.0    261.0   \n",
       "weatherCode_y      113.0    113.0    113.0    113.0    113.0    113.0   \n",
       "precipMM_y           0.0      0.0      0.0      0.0      0.0      0.0   \n",
       "visibility_y        10.0     10.0     10.0     10.0     10.0     10.0   \n",
       "pressure_y        1014.0   1014.0   1014.0   1014.0   1014.0   1014.0   \n",
       "cloudcover_y         0.0      0.0      0.0      0.0      0.0      0.0   \n",
       "DewPointF_y         59.0     59.0     59.0     59.0     59.0     59.0   \n",
       "WindGustKmph_y      10.0     10.0     10.0     10.0     10.0     10.0   \n",
       "tempF_y             69.0     69.0     69.0     69.0     69.0     69.0   \n",
       "WindChillF_y        67.0     67.0     67.0     67.0     67.0     67.0   \n",
       "humidity_y          73.0     73.0     73.0     73.0     73.0     73.0   \n",
       "newOrigin            1.0      1.0      9.0      8.0     12.0     15.0   \n",
       "newDest              6.0      6.0      6.0      6.0      6.0      6.0   \n",
       "\n",
       "                 6        7        8        9        ...  1851324  1851325  \\\n",
       "Year              2016.0   2016.0   2016.0   2016.0  ...   2017.0   2017.0   \n",
       "Quarter              4.0      4.0      4.0      4.0  ...      1.0      1.0   \n",
       "Month               12.0     12.0     12.0     12.0  ...      2.0      2.0   \n",
       "DayofMonth           1.0      1.0      1.0      1.0  ...     12.0     11.0   \n",
       "DepTime           1733.0   1451.0   1609.0   1520.0  ...    556.0    543.0   \n",
       "CRSArrTime        1745.0   1726.0   1730.0   1710.0  ...    755.0    755.0   \n",
       "windspeedKmph_x      5.0     14.0      1.0     15.0  ...      3.0     13.0   \n",
       "winddirDegree_x    278.0    275.0    132.0    292.0  ...     83.0    320.0   \n",
       "weatherCode_x      116.0    113.0    113.0    113.0  ...    248.0    176.0   \n",
       "precipMM_x           0.0      0.0      0.0      0.0  ...      0.0      0.0   \n",
       "visibility_x        10.0     10.0     10.0     10.0  ...      0.0     10.0   \n",
       "pressure_x        1013.0   1014.0   1014.0   1018.0  ...   1023.0   1022.0   \n",
       "cloudcover_x        18.0      0.0      1.0      0.0  ...    100.0     93.0   \n",
       "DewPointF_x         24.0     36.0     10.0     39.0  ...     45.0     47.0   \n",
       "WindGustKmph_x       5.0     17.0      3.0     18.0  ...      6.0     16.0   \n",
       "tempF_x             63.0     57.0     40.0     57.0  ...     46.0     50.0   \n",
       "WindChillF_x        63.0     53.0     39.0     53.0  ...     46.0     46.0   \n",
       "humidity_x          22.0     48.0     29.0     54.0  ...     98.0     92.0   \n",
       "windspeedKmph_y      8.0      8.0      8.0      8.0  ...      4.0     10.0   \n",
       "winddirDegree_y    261.0    261.0    261.0    261.0  ...     97.0    189.0   \n",
       "weatherCode_y      113.0    113.0    113.0    113.0  ...    122.0    122.0   \n",
       "precipMM_y           0.0      0.0      0.0      0.0  ...      0.0      0.0   \n",
       "visibility_y        10.0     10.0     10.0     10.0  ...     10.0     10.0   \n",
       "pressure_y        1014.0   1014.0   1014.0   1014.0  ...   1031.0   1027.0   \n",
       "cloudcover_y         0.0      0.0      0.0      0.0  ...    100.0     65.0   \n",
       "DewPointF_y         59.0     59.0     59.0     59.0  ...     34.0     36.0   \n",
       "WindGustKmph_y      10.0     10.0     10.0     10.0  ...      9.0     14.0   \n",
       "tempF_y             69.0     69.0     69.0     69.0  ...     39.0     39.0   \n",
       "WindChillF_y        67.0     67.0     67.0     67.0  ...     37.0     34.0   \n",
       "humidity_y          73.0     73.0     73.0     73.0  ...     83.0     89.0   \n",
       "newOrigin           10.0     14.0     15.0     13.0  ...     12.0     12.0   \n",
       "newDest              6.0      6.0      6.0      6.0  ...     11.0     11.0   \n",
       "\n",
       "                 1851326  1851327  1851328  1851329  1851330  1851331  \\\n",
       "Year              2017.0   2017.0   2017.0   2017.0   2017.0   2017.0   \n",
       "Quarter              1.0      1.0      1.0      1.0      1.0      1.0   \n",
       "Month                2.0      2.0      2.0      2.0      2.0      2.0   \n",
       "DayofMonth          10.0      4.0     11.0     25.0     19.0     18.0   \n",
       "DepTime            548.0   2317.0   2319.0   2325.0    548.0    548.0   \n",
       "CRSArrTime         755.0     55.0     58.0     58.0    655.0    655.0   \n",
       "windspeedKmph_x      8.0     15.0     20.0      6.0      3.0     18.0   \n",
       "winddirDegree_x    246.0    171.0    188.0    122.0    201.0    138.0   \n",
       "weatherCode_x      248.0    122.0    113.0    122.0    122.0    296.0   \n",
       "precipMM_x           0.8      0.0      0.0      0.0      0.1      0.7   \n",
       "visibility_x         7.0     10.0     10.0     10.0     10.0      5.0   \n",
       "pressure_x        1015.0   1019.0   1012.0   1019.0   1006.0   1000.0   \n",
       "cloudcover_x       100.0    100.0      0.0     24.0     87.0    100.0   \n",
       "DewPointF_x         51.0     43.0     64.0     28.0     47.0     40.0   \n",
       "WindGustKmph_x      17.0     22.0     38.0      8.0      4.0     32.0   \n",
       "tempF_x             52.0     44.0     68.0     53.0     50.0     47.0   \n",
       "WindChillF_x        50.0     42.0     68.0     53.0     50.0     41.0   \n",
       "humidity_x          98.0     79.0     72.0     39.0     91.0     80.0   \n",
       "windspeedKmph_y     25.0      9.0      4.0      6.0      4.0     18.0   \n",
       "winddirDegree_y    189.0     44.0    340.0     46.0     78.0    109.0   \n",
       "weatherCode_y      122.0    113.0    122.0    122.0    143.0    353.0   \n",
       "precipMM_y           0.1      0.0      0.0      0.0      0.0      2.1   \n",
       "visibility_y         9.0     10.0     10.0     10.0      2.0      8.0   \n",
       "pressure_y        1003.0   1015.0   1015.0   1014.0   1010.0   1000.0   \n",
       "cloudcover_y        98.0      0.0    100.0    100.0    100.0    100.0   \n",
       "DewPointF_y         35.0     42.0     51.0     32.0     51.0     50.0   \n",
       "WindGustKmph_y      49.0     15.0      6.0     10.0      5.0     32.0   \n",
       "tempF_y             40.0     65.0     68.0     57.0     52.0     53.0   \n",
       "WindChillF_y        32.0     65.0     68.0     57.0     52.0     49.0   \n",
       "humidity_y          80.0     43.0     54.0     39.0     95.0     92.0   \n",
       "newOrigin           12.0      1.0      1.0      1.0      5.0      5.0   \n",
       "newDest             11.0     10.0     10.0     10.0      6.0      6.0   \n",
       "\n",
       "                 1851332  1851333  \n",
       "Year              2017.0   2017.0  \n",
       "Quarter              1.0      1.0  \n",
       "Month                2.0      2.0  \n",
       "DayofMonth          25.0     26.0  \n",
       "DepTime            546.0    547.0  \n",
       "CRSArrTime         655.0    655.0  \n",
       "windspeedKmph_x      3.0      5.0  \n",
       "winddirDegree_x     97.0    335.0  \n",
       "weatherCode_x      113.0    113.0  \n",
       "precipMM_x           0.0      0.0  \n",
       "visibility_x        10.0     10.0  \n",
       "pressure_x        1022.0   1015.0  \n",
       "cloudcover_x         0.0     43.0  \n",
       "DewPointF_x         23.0     24.0  \n",
       "WindGustKmph_x       4.0      9.0  \n",
       "tempF_x             39.0     37.0  \n",
       "WindChillF_x        38.0     35.0  \n",
       "humidity_x          52.0     59.0  \n",
       "windspeedKmph_y      7.0      4.0  \n",
       "winddirDegree_y     61.0    206.0  \n",
       "weatherCode_y      116.0    263.0  \n",
       "precipMM_y           0.0      0.5  \n",
       "visibility_y        10.0      3.0  \n",
       "pressure_y        1020.0   1016.0  \n",
       "cloudcover_y        36.0     90.0  \n",
       "DewPointF_y         45.0     47.0  \n",
       "WindGustKmph_y      13.0      5.0  \n",
       "tempF_y             47.0     52.0  \n",
       "WindChillF_y        45.0     52.0  \n",
       "humidity_y          93.0     85.0  \n",
       "newOrigin            5.0      5.0  \n",
       "newDest              6.0      6.0  \n",
       "\n",
       "[32 rows x 1851334 columns]"
      ]
     },
     "execution_count": 12,
     "metadata": {},
     "output_type": "execute_result"
    }
   ],
   "source": [
    "x.transpose()"
   ]
  },
  {
   "cell_type": "code",
   "execution_count": null,
   "metadata": {},
   "outputs": [],
   "source": [
    "# No Sampling"
   ]
  },
  {
   "cell_type": "code",
   "execution_count": 13,
   "metadata": {},
   "outputs": [],
   "source": [
    "from sklearn.model_selection import train_test_split  \n",
    "x_train, x_test, y_train, y_test = train_test_split(x, y, test_size = 0.20, random_state = 40)"
   ]
  },
  {
   "cell_type": "code",
   "execution_count": 14,
   "metadata": {},
   "outputs": [],
   "source": [
    "# Logistic Regression\n",
    "\n",
    "from sklearn.linear_model import LogisticRegression\n",
    "logReg = LogisticRegression()"
   ]
  },
  {
   "cell_type": "code",
   "execution_count": 15,
   "metadata": {},
   "outputs": [
    {
     "name": "stderr",
     "output_type": "stream",
     "text": [
      "/Users/shreyassrinivasan/miniconda3/lib/python3.7/site-packages/sklearn/linear_model/_logistic.py:765: ConvergenceWarning: lbfgs failed to converge (status=1):\n",
      "STOP: TOTAL NO. of ITERATIONS REACHED LIMIT.\n",
      "\n",
      "Increase the number of iterations (max_iter) or scale the data as shown in:\n",
      "    https://scikit-learn.org/stable/modules/preprocessing.html\n",
      "Please also refer to the documentation for alternative solver options:\n",
      "    https://scikit-learn.org/stable/modules/linear_model.html#logistic-regression\n",
      "  extra_warning_msg=_LOGISTIC_SOLVER_CONVERGENCE_MSG)\n"
     ]
    },
    {
     "data": {
      "text/plain": [
       "LogisticRegression()"
      ]
     },
     "execution_count": 15,
     "metadata": {},
     "output_type": "execute_result"
    }
   ],
   "source": [
    "logReg.fit(x_train,y_train)"
   ]
  },
  {
   "cell_type": "code",
   "execution_count": 16,
   "metadata": {},
   "outputs": [
    {
     "name": "stdout",
     "output_type": "stream",
     "text": [
      "0.7923039320274289\n"
     ]
    }
   ],
   "source": [
    "# Accuracy\n",
    "\n",
    "score = logReg.score(x_test,y_test)\n",
    "print(score)"
   ]
  },
  {
   "cell_type": "code",
   "execution_count": 17,
   "metadata": {},
   "outputs": [],
   "source": [
    "pred = logReg.predict(x_test)"
   ]
  },
  {
   "cell_type": "code",
   "execution_count": 18,
   "metadata": {},
   "outputs": [],
   "source": [
    "# Confusion matrix\n",
    "\n",
    "cm = metrics.confusion_matrix(y_test,pred)"
   ]
  },
  {
   "cell_type": "code",
   "execution_count": 19,
   "metadata": {},
   "outputs": [
    {
     "data": {
      "text/plain": [
       "array([[291691,   1002],\n",
       "       [ 75901,   1673]])"
      ]
     },
     "execution_count": 19,
     "metadata": {},
     "output_type": "execute_result"
    }
   ],
   "source": [
    "cm"
   ]
  },
  {
   "cell_type": "code",
   "execution_count": 20,
   "metadata": {},
   "outputs": [
    {
     "name": "stdout",
     "output_type": "stream",
     "text": [
      "              precision    recall  f1-score   support\n",
      "\n",
      "     Class 0       0.79      1.00      0.88    292693\n",
      "     Class 1       0.63      0.02      0.04     77574\n",
      "\n",
      "    accuracy                           0.79    370267\n",
      "   macro avg       0.71      0.51      0.46    370267\n",
      "weighted avg       0.76      0.79      0.71    370267\n",
      "\n"
     ]
    }
   ],
   "source": [
    "# Classification Report\n",
    "\n",
    "from sklearn.metrics import classification_report\n",
    "target_names=[\"Class 0\",\"Class 1\"]\n",
    "print(classification_report(y_test,pred,target_names=target_names))"
   ]
  },
  {
   "cell_type": "code",
   "execution_count": 21,
   "metadata": {},
   "outputs": [
    {
     "data": {
      "text/plain": [
       "DecisionTreeClassifier()"
      ]
     },
     "execution_count": 21,
     "metadata": {},
     "output_type": "execute_result"
    }
   ],
   "source": [
    "# Decision Tree\n",
    "\n",
    "from sklearn.tree import DecisionTreeClassifier\n",
    "\n",
    "decTree = DecisionTreeClassifier()\n",
    "decTree.fit(x_train, y_train)"
   ]
  },
  {
   "cell_type": "code",
   "execution_count": 22,
   "metadata": {},
   "outputs": [],
   "source": [
    "pred1 = decTree.predict(x_test)"
   ]
  },
  {
   "cell_type": "code",
   "execution_count": 23,
   "metadata": {},
   "outputs": [],
   "source": [
    "cm1 = metrics.confusion_matrix(y_test,pred1)"
   ]
  },
  {
   "cell_type": "code",
   "execution_count": 24,
   "metadata": {},
   "outputs": [
    {
     "data": {
      "text/plain": [
       "array([[255366,  37327],\n",
       "       [ 34530,  43044]])"
      ]
     },
     "execution_count": 24,
     "metadata": {},
     "output_type": "execute_result"
    }
   ],
   "source": [
    "cm1"
   ]
  },
  {
   "cell_type": "code",
   "execution_count": 25,
   "metadata": {},
   "outputs": [
    {
     "name": "stdout",
     "output_type": "stream",
     "text": [
      "0.8059319356032268\n"
     ]
    }
   ],
   "source": [
    "score1 = decTree.score(x_test,y_test)\n",
    "print(score1)"
   ]
  },
  {
   "cell_type": "code",
   "execution_count": 26,
   "metadata": {},
   "outputs": [
    {
     "name": "stdout",
     "output_type": "stream",
     "text": [
      "              precision    recall  f1-score   support\n",
      "\n",
      "     Class 0       0.88      0.87      0.88    292693\n",
      "     Class 1       0.54      0.55      0.55     77574\n",
      "\n",
      "    accuracy                           0.81    370267\n",
      "   macro avg       0.71      0.71      0.71    370267\n",
      "weighted avg       0.81      0.81      0.81    370267\n",
      "\n"
     ]
    }
   ],
   "source": [
    "# Classification Report\n",
    "\n",
    "target_names=[\"Class 0\",\"Class 1\"]\n",
    "print(classification_report(y_test,pred1,target_names=target_names))"
   ]
  },
  {
   "cell_type": "code",
   "execution_count": 27,
   "metadata": {},
   "outputs": [
    {
     "data": {
      "text/plain": [
       "ExtraTreeClassifier()"
      ]
     },
     "execution_count": 27,
     "metadata": {},
     "output_type": "execute_result"
    }
   ],
   "source": [
    "# Extra Tree Classifier\n",
    "\n",
    "from sklearn.tree import ExtraTreeClassifier\n",
    "\n",
    "extTree = ExtraTreeClassifier()\n",
    "extTree.fit(x_train,y_train)"
   ]
  },
  {
   "cell_type": "code",
   "execution_count": 28,
   "metadata": {},
   "outputs": [],
   "source": [
    "pred2 = extTree.predict(x_test)"
   ]
  },
  {
   "cell_type": "code",
   "execution_count": 29,
   "metadata": {},
   "outputs": [],
   "source": [
    "cm2 = metrics.confusion_matrix(y_test,pred2)"
   ]
  },
  {
   "cell_type": "code",
   "execution_count": 30,
   "metadata": {},
   "outputs": [
    {
     "data": {
      "text/plain": [
       "array([[246337,  46356],\n",
       "       [ 45543,  32031]])"
      ]
     },
     "execution_count": 30,
     "metadata": {},
     "output_type": "execute_result"
    }
   ],
   "source": [
    "cm2"
   ]
  },
  {
   "cell_type": "code",
   "execution_count": 31,
   "metadata": {},
   "outputs": [
    {
     "name": "stdout",
     "output_type": "stream",
     "text": [
      "0.7518034283368488\n"
     ]
    }
   ],
   "source": [
    "score2 = extTree.score(x_test,y_test)\n",
    "print(score2)"
   ]
  },
  {
   "cell_type": "code",
   "execution_count": 32,
   "metadata": {},
   "outputs": [
    {
     "name": "stdout",
     "output_type": "stream",
     "text": [
      "              precision    recall  f1-score   support\n",
      "\n",
      "     Class 0       0.84      0.84      0.84    292693\n",
      "     Class 1       0.41      0.41      0.41     77574\n",
      "\n",
      "    accuracy                           0.75    370267\n",
      "   macro avg       0.63      0.63      0.63    370267\n",
      "weighted avg       0.75      0.75      0.75    370267\n",
      "\n"
     ]
    }
   ],
   "source": [
    "# Classification Report\n",
    "\n",
    "target_names=[\"Class 0\",\"Class 1\"]\n",
    "print(classification_report(y_test,pred2,target_names=target_names))"
   ]
  },
  {
   "cell_type": "code",
   "execution_count": 33,
   "metadata": {},
   "outputs": [
    {
     "name": "stderr",
     "output_type": "stream",
     "text": [
      "/Users/shreyassrinivasan/miniconda3/lib/python3.7/site-packages/xgboost/sklearn.py:1146: UserWarning: The use of label encoder in XGBClassifier is deprecated and will be removed in a future release. To remove this warning, do the following: 1) Pass option use_label_encoder=False when constructing XGBClassifier object; and 2) Encode your labels (y) as integers starting with 0, i.e. 0, 1, 2, ..., [num_class - 1].\n",
      "  warnings.warn(label_encoder_deprecation_msg, UserWarning)\n"
     ]
    },
    {
     "name": "stdout",
     "output_type": "stream",
     "text": [
      "[18:27:19] WARNING: /Users/travis/build/dmlc/xgboost/src/learner.cc:1095: Starting in XGBoost 1.3.0, the default evaluation metric used with the objective 'binary:logistic' was changed from 'error' to 'logloss'. Explicitly set eval_metric if you'd like to restore the old behavior.\n"
     ]
    },
    {
     "data": {
      "text/plain": [
       "XGBClassifier(base_score=0.5, booster='gbtree', colsample_bylevel=1,\n",
       "              colsample_bynode=1, colsample_bytree=1, gamma=0, gpu_id=-1,\n",
       "              importance_type='gain', interaction_constraints='',\n",
       "              learning_rate=0.300000012, max_delta_step=0, max_depth=6,\n",
       "              min_child_weight=1, missing=nan, monotone_constraints='()',\n",
       "              n_estimators=100, n_jobs=8, num_parallel_tree=1, random_state=0,\n",
       "              reg_alpha=0, reg_lambda=1, scale_pos_weight=1, subsample=1,\n",
       "              tree_method='exact', validate_parameters=1, verbosity=None)"
      ]
     },
     "execution_count": 33,
     "metadata": {},
     "output_type": "execute_result"
    }
   ],
   "source": [
    "# XG Boost\n",
    "\n",
    "from xgboost import XGBClassifier\n",
    "\n",
    "\n",
    "# fit model no training data\n",
    "xgb = XGBClassifier()\n",
    "xgb.fit(x_train, y_train)"
   ]
  },
  {
   "cell_type": "code",
   "execution_count": 34,
   "metadata": {},
   "outputs": [],
   "source": [
    "pred3 = xgb.predict(x_test)"
   ]
  },
  {
   "cell_type": "code",
   "execution_count": 35,
   "metadata": {},
   "outputs": [],
   "source": [
    "cm3 = metrics.confusion_matrix(y_test,pred3)"
   ]
  },
  {
   "cell_type": "code",
   "execution_count": 36,
   "metadata": {},
   "outputs": [
    {
     "data": {
      "text/plain": [
       "array([[289338,   3355],\n",
       "       [ 45536,  32038]])"
      ]
     },
     "execution_count": 36,
     "metadata": {},
     "output_type": "execute_result"
    }
   ],
   "source": [
    "cm3"
   ]
  },
  {
   "cell_type": "code",
   "execution_count": 37,
   "metadata": {},
   "outputs": [
    {
     "name": "stdout",
     "output_type": "stream",
     "text": [
      "0.8679574469234363\n"
     ]
    }
   ],
   "source": [
    "score3 = xgb.score(x_test,y_test)\n",
    "print(score3)"
   ]
  },
  {
   "cell_type": "code",
   "execution_count": 38,
   "metadata": {},
   "outputs": [
    {
     "name": "stdout",
     "output_type": "stream",
     "text": [
      "              precision    recall  f1-score   support\n",
      "\n",
      "     Class 0       0.86      0.99      0.92    292693\n",
      "     Class 1       0.91      0.41      0.57     77574\n",
      "\n",
      "    accuracy                           0.87    370267\n",
      "   macro avg       0.88      0.70      0.74    370267\n",
      "weighted avg       0.87      0.87      0.85    370267\n",
      "\n"
     ]
    }
   ],
   "source": [
    "# Classification Report\n",
    "\n",
    "target_names=[\"Class 0\",\"Class 1\"]\n",
    "print(classification_report(y_test,pred3,target_names=target_names))"
   ]
  },
  {
   "cell_type": "code",
   "execution_count": 39,
   "metadata": {},
   "outputs": [],
   "source": [
    "# Random Forest\n",
    "\n",
    "from sklearn.ensemble import RandomForestClassifier "
   ]
  },
  {
   "cell_type": "code",
   "execution_count": 40,
   "metadata": {},
   "outputs": [],
   "source": [
    "ranFor = RandomForestClassifier(n_estimators= 30, criterion=\"entropy\")   "
   ]
  },
  {
   "cell_type": "code",
   "execution_count": 41,
   "metadata": {},
   "outputs": [
    {
     "data": {
      "text/plain": [
       "RandomForestClassifier(criterion='entropy', n_estimators=30)"
      ]
     },
     "execution_count": 41,
     "metadata": {},
     "output_type": "execute_result"
    }
   ],
   "source": [
    "ranFor.fit(x_train,y_train) "
   ]
  },
  {
   "cell_type": "code",
   "execution_count": 42,
   "metadata": {},
   "outputs": [],
   "source": [
    "pred4 = ranFor.predict(x_test)"
   ]
  },
  {
   "cell_type": "code",
   "execution_count": 43,
   "metadata": {},
   "outputs": [],
   "source": [
    "cm4 = metrics.confusion_matrix(y_test,pred4)"
   ]
  },
  {
   "cell_type": "code",
   "execution_count": 44,
   "metadata": {},
   "outputs": [
    {
     "data": {
      "text/plain": [
       "array([[282046,  10647],\n",
       "       [ 51164,  26410]])"
      ]
     },
     "execution_count": 44,
     "metadata": {},
     "output_type": "execute_result"
    }
   ],
   "source": [
    "cm4"
   ]
  },
  {
   "cell_type": "code",
   "execution_count": 45,
   "metadata": {},
   "outputs": [
    {
     "name": "stdout",
     "output_type": "stream",
     "text": [
      "0.8330637080809253\n"
     ]
    }
   ],
   "source": [
    "score4 = ranFor.score(x_test,y_test)\n",
    "print(score4)"
   ]
  },
  {
   "cell_type": "code",
   "execution_count": 46,
   "metadata": {},
   "outputs": [
    {
     "name": "stdout",
     "output_type": "stream",
     "text": [
      "              precision    recall  f1-score   support\n",
      "\n",
      "     Class 0       0.85      0.96      0.90    292693\n",
      "     Class 1       0.71      0.34      0.46     77574\n",
      "\n",
      "    accuracy                           0.83    370267\n",
      "   macro avg       0.78      0.65      0.68    370267\n",
      "weighted avg       0.82      0.83      0.81    370267\n",
      "\n"
     ]
    }
   ],
   "source": [
    "# Classification Report\n",
    "\n",
    "target_names=[\"Class 0\",\"Class 1\"]\n",
    "print(classification_report(y_test,pred4,target_names=target_names))"
   ]
  },
  {
   "cell_type": "code",
   "execution_count": 47,
   "metadata": {},
   "outputs": [],
   "source": [
    "from imblearn.over_sampling import RandomOverSampler\n",
    "from imblearn.under_sampling import RandomUnderSampler"
   ]
  },
  {
   "cell_type": "code",
   "execution_count": null,
   "metadata": {},
   "outputs": [],
   "source": [
    "# Undersampling"
   ]
  },
  {
   "cell_type": "code",
   "execution_count": 48,
   "metadata": {},
   "outputs": [],
   "source": [
    "rus = RandomUnderSampler(random_state = 42)\n",
    "x_resampled,y_resampled = rus.fit_resample(x_train,y_train)"
   ]
  },
  {
   "cell_type": "code",
   "execution_count": 49,
   "metadata": {},
   "outputs": [
    {
     "data": {
      "text/plain": [
       "Counter({0.0: 310465, 1.0: 310465})"
      ]
     },
     "execution_count": 49,
     "metadata": {},
     "output_type": "execute_result"
    }
   ],
   "source": [
    "import collections\n",
    "collections.Counter(y_resampled)"
   ]
  },
  {
   "cell_type": "code",
   "execution_count": 50,
   "metadata": {},
   "outputs": [
    {
     "name": "stderr",
     "output_type": "stream",
     "text": [
      "/Users/shreyassrinivasan/miniconda3/lib/python3.7/site-packages/sklearn/linear_model/_logistic.py:765: ConvergenceWarning: lbfgs failed to converge (status=1):\n",
      "STOP: TOTAL NO. of ITERATIONS REACHED LIMIT.\n",
      "\n",
      "Increase the number of iterations (max_iter) or scale the data as shown in:\n",
      "    https://scikit-learn.org/stable/modules/preprocessing.html\n",
      "Please also refer to the documentation for alternative solver options:\n",
      "    https://scikit-learn.org/stable/modules/linear_model.html#logistic-regression\n",
      "  extra_warning_msg=_LOGISTIC_SOLVER_CONVERGENCE_MSG)\n"
     ]
    },
    {
     "data": {
      "text/plain": [
       "LogisticRegression()"
      ]
     },
     "execution_count": 50,
     "metadata": {},
     "output_type": "execute_result"
    }
   ],
   "source": [
    "# Logistic Regression\n",
    "\n",
    "logReg.fit(x_resampled,y_resampled)"
   ]
  },
  {
   "cell_type": "code",
   "execution_count": 51,
   "metadata": {},
   "outputs": [
    {
     "name": "stdout",
     "output_type": "stream",
     "text": [
      "0.6058519932913277\n"
     ]
    }
   ],
   "source": [
    "# Accuracy\n",
    "\n",
    "y_predlogReg = logReg.predict(x_test)\n",
    "accuracy_score(y_test, y_predlogReg)\n",
    "score = accuracy_score(y_test,y_predlogReg)\n",
    "print(score)"
   ]
  },
  {
   "cell_type": "code",
   "execution_count": 52,
   "metadata": {},
   "outputs": [
    {
     "name": "stdout",
     "output_type": "stream",
     "text": [
      "[[177197 115496]\n",
      " [ 30444  47130]]\n"
     ]
    }
   ],
   "source": [
    "# Confusion Matrix\n",
    "\n",
    "cm = metrics.confusion_matrix(y_test,y_predlogReg)\n",
    "print(cm)"
   ]
  },
  {
   "cell_type": "code",
   "execution_count": 53,
   "metadata": {},
   "outputs": [
    {
     "name": "stdout",
     "output_type": "stream",
     "text": [
      "              precision    recall  f1-score   support\n",
      "\n",
      "     Class 0       0.85      0.61      0.71    292693\n",
      "     Class 1       0.29      0.61      0.39     77574\n",
      "\n",
      "    accuracy                           0.61    370267\n",
      "   macro avg       0.57      0.61      0.55    370267\n",
      "weighted avg       0.74      0.61      0.64    370267\n",
      "\n"
     ]
    }
   ],
   "source": [
    "# Classification Report\n",
    "\n",
    "target_names=[\"Class 0\",\"Class 1\"]\n",
    "print(classification_report(y_test,y_predlogReg,target_names=target_names))"
   ]
  },
  {
   "cell_type": "code",
   "execution_count": 54,
   "metadata": {},
   "outputs": [
    {
     "data": {
      "text/plain": [
       "DecisionTreeClassifier()"
      ]
     },
     "execution_count": 54,
     "metadata": {},
     "output_type": "execute_result"
    }
   ],
   "source": [
    "# Decision Tree\n",
    "\n",
    "decTree.fit(x_resampled,y_resampled)"
   ]
  },
  {
   "cell_type": "code",
   "execution_count": 55,
   "metadata": {},
   "outputs": [
    {
     "name": "stdout",
     "output_type": "stream",
     "text": [
      "0.695914029605663\n"
     ]
    }
   ],
   "source": [
    "# Accuracy\n",
    "\n",
    "y_preddecTree = decTree.predict(x_test)\n",
    "accuracy_score(y_test, y_preddecTree)\n",
    "score = accuracy_score(y_test,y_preddecTree)\n",
    "print(score)"
   ]
  },
  {
   "cell_type": "code",
   "execution_count": 56,
   "metadata": {},
   "outputs": [
    {
     "name": "stdout",
     "output_type": "stream",
     "text": [
      "[[203322  89371]\n",
      " [ 23222  54352]]\n"
     ]
    }
   ],
   "source": [
    "# Confusion Matrix\n",
    "\n",
    "cm = metrics.confusion_matrix(y_test,y_preddecTree)\n",
    "print(cm)"
   ]
  },
  {
   "cell_type": "code",
   "execution_count": 57,
   "metadata": {},
   "outputs": [
    {
     "name": "stdout",
     "output_type": "stream",
     "text": [
      "              precision    recall  f1-score   support\n",
      "\n",
      "     Class 0       0.90      0.69      0.78    292693\n",
      "     Class 1       0.38      0.70      0.49     77574\n",
      "\n",
      "    accuracy                           0.70    370267\n",
      "   macro avg       0.64      0.70      0.64    370267\n",
      "weighted avg       0.79      0.70      0.72    370267\n",
      "\n"
     ]
    }
   ],
   "source": [
    "# Classification Report\n",
    "\n",
    "target_names=[\"Class 0\",\"Class 1\"]\n",
    "print(classification_report(y_test,y_preddecTree,target_names=target_names))"
   ]
  },
  {
   "cell_type": "code",
   "execution_count": 58,
   "metadata": {},
   "outputs": [
    {
     "data": {
      "text/plain": [
       "ExtraTreeClassifier()"
      ]
     },
     "execution_count": 58,
     "metadata": {},
     "output_type": "execute_result"
    }
   ],
   "source": [
    "# Extra Tree Classifier\n",
    "\n",
    "extTree.fit(x_resampled,y_resampled)"
   ]
  },
  {
   "cell_type": "code",
   "execution_count": 59,
   "metadata": {},
   "outputs": [
    {
     "name": "stdout",
     "output_type": "stream",
     "text": [
      "0.6144836023734225\n"
     ]
    }
   ],
   "source": [
    "# Accuracy\n",
    "\n",
    "y_predextTree = extTree.predict(x_test)\n",
    "accuracy_score(y_test, y_predextTree)\n",
    "score = accuracy_score(y_test,y_predextTree)\n",
    "print(score)"
   ]
  },
  {
   "cell_type": "code",
   "execution_count": 60,
   "metadata": {},
   "outputs": [
    {
     "name": "stdout",
     "output_type": "stream",
     "text": [
      "[[179812 112881]\n",
      " [ 29863  47711]]\n"
     ]
    }
   ],
   "source": [
    "# Confusion Matrix\n",
    "\n",
    "cm = metrics.confusion_matrix(y_test,y_predextTree)\n",
    "print(cm)"
   ]
  },
  {
   "cell_type": "code",
   "execution_count": 61,
   "metadata": {},
   "outputs": [
    {
     "name": "stdout",
     "output_type": "stream",
     "text": [
      "              precision    recall  f1-score   support\n",
      "\n",
      "     Class 0       0.86      0.61      0.72    292693\n",
      "     Class 1       0.30      0.62      0.40     77574\n",
      "\n",
      "    accuracy                           0.61    370267\n",
      "   macro avg       0.58      0.61      0.56    370267\n",
      "weighted avg       0.74      0.61      0.65    370267\n",
      "\n"
     ]
    }
   ],
   "source": [
    "# Classification Report\n",
    "\n",
    "target_names=[\"Class 0\",\"Class 1\"]\n",
    "print(classification_report(y_test,y_predextTree,target_names=target_names))"
   ]
  },
  {
   "cell_type": "code",
   "execution_count": 62,
   "metadata": {},
   "outputs": [
    {
     "name": "stderr",
     "output_type": "stream",
     "text": [
      "/Users/shreyassrinivasan/miniconda3/lib/python3.7/site-packages/xgboost/sklearn.py:1146: UserWarning: The use of label encoder in XGBClassifier is deprecated and will be removed in a future release. To remove this warning, do the following: 1) Pass option use_label_encoder=False when constructing XGBClassifier object; and 2) Encode your labels (y) as integers starting with 0, i.e. 0, 1, 2, ..., [num_class - 1].\n",
      "  warnings.warn(label_encoder_deprecation_msg, UserWarning)\n"
     ]
    },
    {
     "name": "stdout",
     "output_type": "stream",
     "text": [
      "[18:38:49] WARNING: /Users/travis/build/dmlc/xgboost/src/learner.cc:1095: Starting in XGBoost 1.3.0, the default evaluation metric used with the objective 'binary:logistic' was changed from 'error' to 'logloss'. Explicitly set eval_metric if you'd like to restore the old behavior.\n"
     ]
    },
    {
     "data": {
      "text/plain": [
       "XGBClassifier(base_score=0.5, booster='gbtree', colsample_bylevel=1,\n",
       "              colsample_bynode=1, colsample_bytree=1, gamma=0, gpu_id=-1,\n",
       "              importance_type='gain', interaction_constraints='',\n",
       "              learning_rate=0.300000012, max_delta_step=0, max_depth=6,\n",
       "              min_child_weight=1, missing=nan, monotone_constraints='()',\n",
       "              n_estimators=100, n_jobs=8, num_parallel_tree=1, random_state=0,\n",
       "              reg_alpha=0, reg_lambda=1, scale_pos_weight=1, subsample=1,\n",
       "              tree_method='exact', validate_parameters=1, verbosity=None)"
      ]
     },
     "execution_count": 62,
     "metadata": {},
     "output_type": "execute_result"
    }
   ],
   "source": [
    "# XG Boost\n",
    "\n",
    "xgb.fit(x_resampled,y_resampled)"
   ]
  },
  {
   "cell_type": "code",
   "execution_count": 63,
   "metadata": {},
   "outputs": [
    {
     "name": "stdout",
     "output_type": "stream",
     "text": [
      "0.8172696999732625\n"
     ]
    }
   ],
   "source": [
    "# Accuracy\n",
    "\n",
    "y_predxgb = xgb.predict(x_test)\n",
    "accuracy_score(y_test, y_predxgb)\n",
    "score = accuracy_score(y_test,y_predxgb)\n",
    "print(score)"
   ]
  },
  {
   "cell_type": "code",
   "execution_count": 64,
   "metadata": {},
   "outputs": [
    {
     "name": "stdout",
     "output_type": "stream",
     "text": [
      "[[246973  45720]\n",
      " [ 21939  55635]]\n"
     ]
    }
   ],
   "source": [
    "# Confusion Matrix\n",
    "\n",
    "cm = metrics.confusion_matrix(y_test,y_predxgb)\n",
    "print(cm)"
   ]
  },
  {
   "cell_type": "code",
   "execution_count": 65,
   "metadata": {},
   "outputs": [
    {
     "name": "stdout",
     "output_type": "stream",
     "text": [
      "              precision    recall  f1-score   support\n",
      "\n",
      "     Class 0       0.92      0.84      0.88    292693\n",
      "     Class 1       0.55      0.72      0.62     77574\n",
      "\n",
      "    accuracy                           0.82    370267\n",
      "   macro avg       0.73      0.78      0.75    370267\n",
      "weighted avg       0.84      0.82      0.83    370267\n",
      "\n"
     ]
    }
   ],
   "source": [
    "# Classification Report\n",
    "\n",
    "target_names=[\"Class 0\",\"Class 1\"]\n",
    "print(classification_report(y_test,y_predxgb,target_names=target_names))"
   ]
  },
  {
   "cell_type": "code",
   "execution_count": 66,
   "metadata": {},
   "outputs": [
    {
     "data": {
      "text/plain": [
       "RandomForestClassifier(criterion='entropy', n_estimators=30)"
      ]
     },
     "execution_count": 66,
     "metadata": {},
     "output_type": "execute_result"
    }
   ],
   "source": [
    "# Random Forest\n",
    "\n",
    "ranFor.fit(x_resampled,y_resampled)"
   ]
  },
  {
   "cell_type": "code",
   "execution_count": 67,
   "metadata": {},
   "outputs": [
    {
     "name": "stdout",
     "output_type": "stream",
     "text": [
      "0.747179737864838\n"
     ]
    }
   ],
   "source": [
    "# Accuracy\n",
    "\n",
    "y_predranFor = ranFor.predict(x_test)\n",
    "accuracy_score(y_test, y_predranFor)\n",
    "score = accuracy_score(y_test,y_predranFor)\n",
    "print(score)"
   ]
  },
  {
   "cell_type": "code",
   "execution_count": 68,
   "metadata": {},
   "outputs": [
    {
     "name": "stdout",
     "output_type": "stream",
     "text": [
      "[[223799  68894]\n",
      " [ 24717  52857]]\n"
     ]
    }
   ],
   "source": [
    "# Confusion Matrix\n",
    "\n",
    "cm = metrics.confusion_matrix(y_test,y_predranFor)\n",
    "print(cm)"
   ]
  },
  {
   "cell_type": "code",
   "execution_count": 69,
   "metadata": {},
   "outputs": [
    {
     "name": "stdout",
     "output_type": "stream",
     "text": [
      "              precision    recall  f1-score   support\n",
      "\n",
      "     Class 0       0.90      0.76      0.83    292693\n",
      "     Class 1       0.43      0.68      0.53     77574\n",
      "\n",
      "    accuracy                           0.75    370267\n",
      "   macro avg       0.67      0.72      0.68    370267\n",
      "weighted avg       0.80      0.75      0.76    370267\n",
      "\n"
     ]
    }
   ],
   "source": [
    "# Classification Report\n",
    "\n",
    "target_names=[\"Class 0\",\"Class 1\"]\n",
    "print(classification_report(y_test,y_predranFor,target_names=target_names))"
   ]
  },
  {
   "cell_type": "code",
   "execution_count": null,
   "metadata": {},
   "outputs": [],
   "source": [
    "# Oversampling"
   ]
  },
  {
   "cell_type": "code",
   "execution_count": 70,
   "metadata": {},
   "outputs": [],
   "source": [
    "ros = RandomOverSampler(random_state = 42)\n",
    "x_resampled,y_resampled = ros.fit_resample(x_train,y_train)"
   ]
  },
  {
   "cell_type": "code",
   "execution_count": 71,
   "metadata": {},
   "outputs": [
    {
     "data": {
      "text/plain": [
       "Counter({0.0: 1170602, 1.0: 1170602})"
      ]
     },
     "execution_count": 71,
     "metadata": {},
     "output_type": "execute_result"
    }
   ],
   "source": [
    "import collections\n",
    "collections.Counter(y_resampled)"
   ]
  },
  {
   "cell_type": "code",
   "execution_count": 72,
   "metadata": {},
   "outputs": [
    {
     "name": "stderr",
     "output_type": "stream",
     "text": [
      "/Users/shreyassrinivasan/miniconda3/lib/python3.7/site-packages/sklearn/linear_model/_logistic.py:765: ConvergenceWarning: lbfgs failed to converge (status=1):\n",
      "STOP: TOTAL NO. of ITERATIONS REACHED LIMIT.\n",
      "\n",
      "Increase the number of iterations (max_iter) or scale the data as shown in:\n",
      "    https://scikit-learn.org/stable/modules/preprocessing.html\n",
      "Please also refer to the documentation for alternative solver options:\n",
      "    https://scikit-learn.org/stable/modules/linear_model.html#logistic-regression\n",
      "  extra_warning_msg=_LOGISTIC_SOLVER_CONVERGENCE_MSG)\n"
     ]
    },
    {
     "data": {
      "text/plain": [
       "LogisticRegression()"
      ]
     },
     "execution_count": 72,
     "metadata": {},
     "output_type": "execute_result"
    }
   ],
   "source": [
    "# Logistic Regression\n",
    "\n",
    "logReg.fit(x_resampled,y_resampled)"
   ]
  },
  {
   "cell_type": "code",
   "execution_count": 73,
   "metadata": {},
   "outputs": [
    {
     "name": "stdout",
     "output_type": "stream",
     "text": [
      "0.6074481387755323\n"
     ]
    }
   ],
   "source": [
    "# Accuracy\n",
    "\n",
    "y_predlogReg = logReg.predict(x_test)\n",
    "accuracy_score(y_test, y_predlogReg)\n",
    "score = accuracy_score(y_test,y_predlogReg)\n",
    "print(score)"
   ]
  },
  {
   "cell_type": "code",
   "execution_count": 74,
   "metadata": {},
   "outputs": [
    {
     "name": "stdout",
     "output_type": "stream",
     "text": [
      "[[178137 114556]\n",
      " [ 30793  46781]]\n"
     ]
    }
   ],
   "source": [
    "# Confusion Matrix\n",
    "\n",
    "cm = metrics.confusion_matrix(y_test,y_predlogReg)\n",
    "print(cm)"
   ]
  },
  {
   "cell_type": "code",
   "execution_count": 75,
   "metadata": {},
   "outputs": [
    {
     "name": "stdout",
     "output_type": "stream",
     "text": [
      "              precision    recall  f1-score   support\n",
      "\n",
      "     Class 0       0.85      0.61      0.71    292693\n",
      "     Class 1       0.29      0.60      0.39     77574\n",
      "\n",
      "    accuracy                           0.61    370267\n",
      "   macro avg       0.57      0.61      0.55    370267\n",
      "weighted avg       0.73      0.61      0.64    370267\n",
      "\n"
     ]
    }
   ],
   "source": [
    "# Classification Report\n",
    "\n",
    "target_names=[\"Class 0\",\"Class 1\"]\n",
    "print(classification_report(y_test,y_predlogReg,target_names=target_names))"
   ]
  },
  {
   "cell_type": "code",
   "execution_count": 76,
   "metadata": {},
   "outputs": [
    {
     "data": {
      "text/plain": [
       "DecisionTreeClassifier()"
      ]
     },
     "execution_count": 76,
     "metadata": {},
     "output_type": "execute_result"
    }
   ],
   "source": [
    "# Decision Tree\n",
    "\n",
    "decTree.fit(x_resampled,y_resampled)"
   ]
  },
  {
   "cell_type": "code",
   "execution_count": 77,
   "metadata": {},
   "outputs": [
    {
     "name": "stdout",
     "output_type": "stream",
     "text": [
      "0.8078494707872967\n"
     ]
    }
   ],
   "source": [
    "# Accuracy\n",
    "\n",
    "y_preddecTree = decTree.predict(x_test)\n",
    "accuracy_score(y_test, y_preddecTree)\n",
    "score = accuracy_score(y_test,y_preddecTree)\n",
    "print(score)"
   ]
  },
  {
   "cell_type": "code",
   "execution_count": 78,
   "metadata": {},
   "outputs": [
    {
     "name": "stdout",
     "output_type": "stream",
     "text": [
      "[[257680  35013]\n",
      " [ 36134  41440]]\n"
     ]
    }
   ],
   "source": [
    "# Confusion Matrix\n",
    "\n",
    "cm = metrics.confusion_matrix(y_test,y_preddecTree)\n",
    "print(cm)"
   ]
  },
  {
   "cell_type": "code",
   "execution_count": 79,
   "metadata": {},
   "outputs": [
    {
     "name": "stdout",
     "output_type": "stream",
     "text": [
      "              precision    recall  f1-score   support\n",
      "\n",
      "     Class 0       0.85      0.61      0.71    292693\n",
      "     Class 1       0.29      0.60      0.39     77574\n",
      "\n",
      "    accuracy                           0.61    370267\n",
      "   macro avg       0.57      0.61      0.55    370267\n",
      "weighted avg       0.73      0.61      0.64    370267\n",
      "\n"
     ]
    }
   ],
   "source": [
    "# Classification Report\n",
    "\n",
    "target_names=[\"Class 0\",\"Class 1\"]\n",
    "print(classification_report(y_test,y_predlogReg,target_names=target_names))"
   ]
  },
  {
   "cell_type": "code",
   "execution_count": 80,
   "metadata": {},
   "outputs": [
    {
     "data": {
      "text/plain": [
       "ExtraTreeClassifier()"
      ]
     },
     "execution_count": 80,
     "metadata": {},
     "output_type": "execute_result"
    }
   ],
   "source": [
    "# Extra Tree Classifier\n",
    "\n",
    "extTree.fit(x_resampled,y_resampled)"
   ]
  },
  {
   "cell_type": "code",
   "execution_count": 81,
   "metadata": {},
   "outputs": [
    {
     "name": "stdout",
     "output_type": "stream",
     "text": [
      "0.7477279908822553\n"
     ]
    }
   ],
   "source": [
    "# Accuracy\n",
    "\n",
    "y_predextTree = extTree.predict(x_test)\n",
    "accuracy_score(y_test, y_predextTree)\n",
    "score = accuracy_score(y_test,y_predextTree)\n",
    "print(score)"
   ]
  },
  {
   "cell_type": "code",
   "execution_count": 82,
   "metadata": {},
   "outputs": [
    {
     "name": "stdout",
     "output_type": "stream",
     "text": [
      "[[246806  45887]\n",
      " [ 47521  30053]]\n"
     ]
    }
   ],
   "source": [
    "# Confusion Matrix\n",
    "\n",
    "cm = metrics.confusion_matrix(y_test,y_predextTree)\n",
    "print(cm)"
   ]
  },
  {
   "cell_type": "code",
   "execution_count": 83,
   "metadata": {},
   "outputs": [
    {
     "name": "stdout",
     "output_type": "stream",
     "text": [
      "              precision    recall  f1-score   support\n",
      "\n",
      "     Class 0       0.84      0.84      0.84    292693\n",
      "     Class 1       0.40      0.39      0.39     77574\n",
      "\n",
      "    accuracy                           0.75    370267\n",
      "   macro avg       0.62      0.62      0.62    370267\n",
      "weighted avg       0.75      0.75      0.75    370267\n",
      "\n"
     ]
    }
   ],
   "source": [
    "# Classification Report\n",
    "\n",
    "target_names=[\"Class 0\",\"Class 1\"]\n",
    "print(classification_report(y_test,y_predextTree,target_names=target_names))"
   ]
  },
  {
   "cell_type": "code",
   "execution_count": 84,
   "metadata": {},
   "outputs": [
    {
     "name": "stderr",
     "output_type": "stream",
     "text": [
      "/Users/shreyassrinivasan/miniconda3/lib/python3.7/site-packages/xgboost/sklearn.py:1146: UserWarning: The use of label encoder in XGBClassifier is deprecated and will be removed in a future release. To remove this warning, do the following: 1) Pass option use_label_encoder=False when constructing XGBClassifier object; and 2) Encode your labels (y) as integers starting with 0, i.e. 0, 1, 2, ..., [num_class - 1].\n",
      "  warnings.warn(label_encoder_deprecation_msg, UserWarning)\n"
     ]
    },
    {
     "name": "stdout",
     "output_type": "stream",
     "text": [
      "[18:48:33] WARNING: /Users/travis/build/dmlc/xgboost/src/learner.cc:1095: Starting in XGBoost 1.3.0, the default evaluation metric used with the objective 'binary:logistic' was changed from 'error' to 'logloss'. Explicitly set eval_metric if you'd like to restore the old behavior.\n"
     ]
    },
    {
     "data": {
      "text/plain": [
       "XGBClassifier(base_score=0.5, booster='gbtree', colsample_bylevel=1,\n",
       "              colsample_bynode=1, colsample_bytree=1, gamma=0, gpu_id=-1,\n",
       "              importance_type='gain', interaction_constraints='',\n",
       "              learning_rate=0.300000012, max_delta_step=0, max_depth=6,\n",
       "              min_child_weight=1, missing=nan, monotone_constraints='()',\n",
       "              n_estimators=100, n_jobs=8, num_parallel_tree=1, random_state=0,\n",
       "              reg_alpha=0, reg_lambda=1, scale_pos_weight=1, subsample=1,\n",
       "              tree_method='exact', validate_parameters=1, verbosity=None)"
      ]
     },
     "execution_count": 84,
     "metadata": {},
     "output_type": "execute_result"
    }
   ],
   "source": [
    "# XG Boost\n",
    "\n",
    "xgb.fit(x_resampled,y_resampled)"
   ]
  },
  {
   "cell_type": "code",
   "execution_count": 85,
   "metadata": {},
   "outputs": [
    {
     "name": "stdout",
     "output_type": "stream",
     "text": [
      "0.8204808962181345\n"
     ]
    }
   ],
   "source": [
    "# Accuracy\n",
    "\n",
    "y_predxgb = xgb.predict(x_test)\n",
    "accuracy_score(y_test, y_predxgb)\n",
    "score = accuracy_score(y_test,y_predxgb)\n",
    "print(score)"
   ]
  },
  {
   "cell_type": "code",
   "execution_count": 86,
   "metadata": {},
   "outputs": [
    {
     "name": "stdout",
     "output_type": "stream",
     "text": [
      "[[248209  44484]\n",
      " [ 21986  55588]]\n"
     ]
    }
   ],
   "source": [
    "# Confusion Matrix\n",
    "\n",
    "cm = metrics.confusion_matrix(y_test,y_predxgb)\n",
    "print(cm)"
   ]
  },
  {
   "cell_type": "code",
   "execution_count": 87,
   "metadata": {},
   "outputs": [
    {
     "name": "stdout",
     "output_type": "stream",
     "text": [
      "              precision    recall  f1-score   support\n",
      "\n",
      "     Class 0       0.92      0.85      0.88    292693\n",
      "     Class 1       0.56      0.72      0.63     77574\n",
      "\n",
      "    accuracy                           0.82    370267\n",
      "   macro avg       0.74      0.78      0.75    370267\n",
      "weighted avg       0.84      0.82      0.83    370267\n",
      "\n"
     ]
    }
   ],
   "source": [
    "# Classification Report\n",
    "\n",
    "target_names=[\"Class 0\",\"Class 1\"]\n",
    "print(classification_report(y_test,y_predxgb,target_names=target_names))"
   ]
  },
  {
   "cell_type": "code",
   "execution_count": 88,
   "metadata": {},
   "outputs": [
    {
     "data": {
      "text/plain": [
       "RandomForestClassifier(criterion='entropy', n_estimators=30)"
      ]
     },
     "execution_count": 88,
     "metadata": {},
     "output_type": "execute_result"
    }
   ],
   "source": [
    "# Random Forest\n",
    "\n",
    "ranFor.fit(x_resampled,y_resampled)"
   ]
  },
  {
   "cell_type": "code",
   "execution_count": 89,
   "metadata": {},
   "outputs": [
    {
     "name": "stdout",
     "output_type": "stream",
     "text": [
      "0.8258689000099928\n"
     ]
    }
   ],
   "source": [
    "# Accuracy\n",
    "\n",
    "y_predranFor = ranFor.predict(x_test)\n",
    "accuracy_score(y_test,y_predranFor)\n",
    "score = accuracy_score(y_test,y_predranFor)\n",
    "print(score)"
   ]
  },
  {
   "cell_type": "code",
   "execution_count": 90,
   "metadata": {},
   "outputs": [
    {
     "name": "stdout",
     "output_type": "stream",
     "text": [
      "[[272709  19984]\n",
      " [ 44491  33083]]\n"
     ]
    }
   ],
   "source": [
    "# Confusion Matrix\n",
    "\n",
    "cm = metrics.confusion_matrix(y_test,y_predranFor)\n",
    "print(cm)"
   ]
  },
  {
   "cell_type": "code",
   "execution_count": 91,
   "metadata": {},
   "outputs": [
    {
     "name": "stdout",
     "output_type": "stream",
     "text": [
      "              precision    recall  f1-score   support\n",
      "\n",
      "     Class 0       0.86      0.93      0.89    292693\n",
      "     Class 1       0.62      0.43      0.51     77574\n",
      "\n",
      "    accuracy                           0.83    370267\n",
      "   macro avg       0.74      0.68      0.70    370267\n",
      "weighted avg       0.81      0.83      0.81    370267\n",
      "\n"
     ]
    }
   ],
   "source": [
    "# Classification Report\n",
    "\n",
    "target_names=[\"Class 0\",\"Class 1\"]\n",
    "print(classification_report(y_test,y_predranFor,target_names=target_names))"
   ]
  },
  {
   "cell_type": "code",
   "execution_count": null,
   "metadata": {},
   "outputs": [],
   "source": []
  },
  {
   "cell_type": "code",
   "execution_count": null,
   "metadata": {},
   "outputs": [],
   "source": []
  }
 ],
 "metadata": {
  "kernelspec": {
   "display_name": "Python 3",
   "language": "python",
   "name": "python3"
  },
  "language_info": {
   "codemirror_mode": {
    "name": "ipython",
    "version": 3
   },
   "file_extension": ".py",
   "mimetype": "text/x-python",
   "name": "python",
   "nbconvert_exporter": "python",
   "pygments_lexer": "ipython3",
   "version": "3.7.4"
  }
 },
 "nbformat": 4,
 "nbformat_minor": 2
}
